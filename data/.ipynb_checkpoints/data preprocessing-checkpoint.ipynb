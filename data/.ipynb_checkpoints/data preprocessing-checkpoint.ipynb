{
 "cells": [
  {
   "cell_type": "code",
   "execution_count": 1,
   "id": "8baabe66",
   "metadata": {},
   "outputs": [],
   "source": [
    "import zipfile\n",
    "import pandas as pd\n",
    "import numpy as np\n",
    "import matplotlib.pyplot as plt\n",
    "import os\n",
    "import tarfile\n",
    "from tqdm import tqdm"
   ]
  },
  {
   "cell_type": "code",
   "execution_count": 2,
   "id": "abb292a2",
   "metadata": {},
   "outputs": [],
   "source": [
    "data_path = '../fit3d/train'"
   ]
  },
  {
   "cell_type": "code",
   "execution_count": 3,
   "id": "4924c25d",
   "metadata": {},
   "outputs": [
    {
     "ename": "FileNotFoundError",
     "evalue": "[WinError 3] 지정된 경로를 찾을 수 없습니다: '../fit3d/train'",
     "output_type": "error",
     "traceback": [
      "\u001b[1;31m---------------------------------------------------------------------------\u001b[0m",
      "\u001b[1;31mFileNotFoundError\u001b[0m                         Traceback (most recent call last)",
      "Cell \u001b[1;32mIn[3], line 1\u001b[0m\n\u001b[1;32m----> 1\u001b[0m [name \u001b[38;5;28;01mfor\u001b[39;00m name \u001b[38;5;129;01min\u001b[39;00m \u001b[43mos\u001b[49m\u001b[38;5;241;43m.\u001b[39;49m\u001b[43mlistdir\u001b[49m\u001b[43m(\u001b[49m\u001b[43mdata_path\u001b[49m\u001b[43m)\u001b[49m \u001b[38;5;28;01mif\u001b[39;00m os\u001b[38;5;241m.\u001b[39mpath\u001b[38;5;241m.\u001b[39misdir(os\u001b[38;5;241m.\u001b[39mpath\u001b[38;5;241m.\u001b[39mjoin(data_path, name))]\n",
      "\u001b[1;31mFileNotFoundError\u001b[0m: [WinError 3] 지정된 경로를 찾을 수 없습니다: '../fit3d/train'"
     ]
    }
   ],
   "source": [
    "[name for name in os.listdir(data_path) if os.path.isdir(os.path.join(data_path, name))]"
   ]
  },
  {
   "cell_type": "code",
   "execution_count": null,
   "id": "466592ba",
   "metadata": {},
   "outputs": [],
   "source": [
    "def read_fit3d(folder):\n",
    "    folder_path = os.path.join('fit3d', folder)\n",
    "    subject_list = [name for name in os.listdir(folder_path) if os.path.isdir(os.path.join(folder_path, name))]\n",
    "    \n",
    "    json_list = []\n",
    "    \n",
    "    for subject in subject_list:\n",
    "        json_path = os.path.join(folder_path, subject, 'joints3d_25')\n",
    "        motion_list = [file for file in os.listdir(json_path) if file.endswith('.json')]\n",
    "        \n",
    "        for motion in motion_list:\n",
    "            motion_path = os.path.join(folder_path, subject, 'joints3d_25', motion)\n",
    "            joints_data = read_json(motion_path)\n",
    "            json_list.append(joints_data)\n",
    "    \n",
    "    return json_list"
   ]
  }
 ],
 "metadata": {
  "kernelspec": {
   "display_name": "MotionAGFormer",
   "language": "python",
   "name": "motionagformer"
  },
  "language_info": {
   "codemirror_mode": {
    "name": "ipython",
    "version": 3
   },
   "file_extension": ".py",
   "mimetype": "text/x-python",
   "name": "python",
   "nbconvert_exporter": "python",
   "pygments_lexer": "ipython3",
   "version": "3.8.10"
  }
 },
 "nbformat": 4,
 "nbformat_minor": 5
}
