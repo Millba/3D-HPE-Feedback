{
 "cells": [
  {
   "cell_type": "code",
   "execution_count": 8,
   "metadata": {},
   "outputs": [
    {
     "name": "stdout",
     "output_type": "stream",
     "text": [
      "before norm - max_3d : 868.5097087348306, min_3d : 608.6073011726805, max_2d : 868.5097087348306, min_2d : 0\n",
      "before norm - max_3d : 809.0273790919655, min_3d : 627.6658074892075, max_2d : 809.0273790919655, min_2d : 0\n"
     ]
    },
    {
     "ename": "TypeError",
     "evalue": "unsupported operand type(s) for -: 'Tensor' and 'list'",
     "output_type": "error",
     "traceback": [
      "\u001b[1;31m---------------------------------------------------------------------------\u001b[0m",
      "\u001b[1;31mTypeError\u001b[0m                                 Traceback (most recent call last)",
      "Cell \u001b[1;32mIn[8], line 50\u001b[0m\n\u001b[0;32m     47\u001b[0m test_dataset \u001b[38;5;241m=\u001b[39m FitHscDataset3D(keypoints_path\u001b[38;5;241m=\u001b[39m\u001b[38;5;124m'\u001b[39m\u001b[38;5;124m../keypoints\u001b[39m\u001b[38;5;124m'\u001b[39m, data_split\u001b[38;5;241m=\u001b[39m\u001b[38;5;124m'\u001b[39m\u001b[38;5;124mval\u001b[39m\u001b[38;5;124m'\u001b[39m)\n\u001b[0;32m     49\u001b[0m \u001b[38;5;66;03m# Train 및 Test 데이터셋 분석\u001b[39;00m\n\u001b[1;32m---> 50\u001b[0m train_data_extremes \u001b[38;5;241m=\u001b[39m \u001b[43manalyze_data_extremes\u001b[49m\u001b[43m(\u001b[49m\u001b[43mtrain_dataset\u001b[49m\u001b[43m,\u001b[49m\u001b[43m \u001b[49m\u001b[38;5;124;43m'\u001b[39;49m\u001b[38;5;124;43mtrain\u001b[39;49m\u001b[38;5;124;43m'\u001b[39;49m\u001b[43m)\u001b[49m\n\u001b[0;32m     51\u001b[0m test_data_extremes \u001b[38;5;241m=\u001b[39m analyze_data_extremes(test_dataset, \u001b[38;5;124m'\u001b[39m\u001b[38;5;124mval\u001b[39m\u001b[38;5;124m'\u001b[39m)\n\u001b[0;32m     53\u001b[0m (train_data_extremes, test_data_extremes)\n",
      "Cell \u001b[1;32mIn[8], line 24\u001b[0m, in \u001b[0;36manalyze_data_extremes\u001b[1;34m(dataset, split)\u001b[0m\n\u001b[0;32m     21\u001b[0m min_z \u001b[38;5;241m=\u001b[39m \u001b[38;5;28mmin\u001b[39m(min_z, keypoints_3d[\u001b[38;5;241m.\u001b[39m\u001b[38;5;241m.\u001b[39m\u001b[38;5;241m.\u001b[39m, \u001b[38;5;241m2\u001b[39m]\u001b[38;5;241m.\u001b[39mmin())\n\u001b[0;32m     23\u001b[0m \u001b[38;5;66;03m# 정규화된 데이터의 최대 최소 값 추출\u001b[39;00m\n\u001b[1;32m---> 24\u001b[0m norm_keypoints_3d \u001b[38;5;241m=\u001b[39m np\u001b[38;5;241m.\u001b[39marray(\u001b[43mdataset\u001b[49m\u001b[38;5;241;43m.\u001b[39;49m\u001b[43mnormalize\u001b[49m\u001b[43m(\u001b[49m\u001b[43mkeypoints_3d\u001b[49m\u001b[43m,\u001b[49m\u001b[43m \u001b[49m\u001b[43mdataset\u001b[49m\u001b[38;5;241;43m.\u001b[39;49m\u001b[43mres_w\u001b[49m\u001b[43m,\u001b[49m\u001b[43m \u001b[49m\u001b[43mdataset\u001b[49m\u001b[38;5;241;43m.\u001b[39;49m\u001b[43mres_h\u001b[49m\u001b[43m,\u001b[49m\u001b[43m \u001b[49m\u001b[43mis_3d\u001b[49m\u001b[38;5;241;43m=\u001b[39;49m\u001b[38;5;28;43;01mTrue\u001b[39;49;00m\u001b[43m)\u001b[49m)\n\u001b[0;32m     25\u001b[0m norm_max_x \u001b[38;5;241m=\u001b[39m norm_keypoints_3d[\u001b[38;5;241m.\u001b[39m\u001b[38;5;241m.\u001b[39m\u001b[38;5;241m.\u001b[39m, \u001b[38;5;241m0\u001b[39m]\u001b[38;5;241m.\u001b[39mmax()\n\u001b[0;32m     26\u001b[0m norm_min_x \u001b[38;5;241m=\u001b[39m norm_keypoints_3d[\u001b[38;5;241m.\u001b[39m\u001b[38;5;241m.\u001b[39m\u001b[38;5;241m.\u001b[39m, \u001b[38;5;241m0\u001b[39m]\u001b[38;5;241m.\u001b[39mmin()\n",
      "File \u001b[1;32mc:\\Users\\Lee_HJ\\WorkSpace\\Project\\Vision_AI\\MotionAGFormer\\data\\reader\\fit3d_hsc3d_dataset.py:111\u001b[0m, in \u001b[0;36mFitHscDataset3D.normalize\u001b[1;34m(self, keypoints, w, h, is_3d)\u001b[0m\n\u001b[0;32m    109\u001b[0m \u001b[38;5;28;01mdef\u001b[39;00m \u001b[38;5;21mnormalize\u001b[39m(\u001b[38;5;28mself\u001b[39m, keypoints, w, h, is_3d\u001b[38;5;241m=\u001b[39m\u001b[38;5;28;01mFalse\u001b[39;00m):\n\u001b[0;32m    110\u001b[0m     result \u001b[38;5;241m=\u001b[39m np\u001b[38;5;241m.\u001b[39mcopy(keypoints)\n\u001b[1;32m--> 111\u001b[0m     result[\u001b[38;5;241m.\u001b[39m\u001b[38;5;241m.\u001b[39m\u001b[38;5;241m.\u001b[39m, :\u001b[38;5;241m2\u001b[39m] \u001b[38;5;241m=\u001b[39m \u001b[43mkeypoints\u001b[49m\u001b[43m[\u001b[49m\u001b[38;5;241;43m.\u001b[39;49m\u001b[38;5;241;43m.\u001b[39;49m\u001b[38;5;241;43m.\u001b[39;49m\u001b[43m,\u001b[49m\u001b[43m \u001b[49m\u001b[43m:\u001b[49m\u001b[38;5;241;43m2\u001b[39;49m\u001b[43m]\u001b[49m\u001b[43m \u001b[49m\u001b[38;5;241;43m/\u001b[39;49m\u001b[43m \u001b[49m\u001b[43mw\u001b[49m\u001b[43m \u001b[49m\u001b[38;5;241;43m*\u001b[39;49m\u001b[43m \u001b[49m\u001b[38;5;241;43m2\u001b[39;49m\u001b[43m \u001b[49m\u001b[38;5;241;43m-\u001b[39;49m\u001b[43m \u001b[49m\u001b[43m[\u001b[49m\u001b[38;5;241;43m1\u001b[39;49m\u001b[43m,\u001b[49m\u001b[43m \u001b[49m\u001b[43mh\u001b[49m\u001b[43m \u001b[49m\u001b[38;5;241;43m/\u001b[39;49m\u001b[43m \u001b[49m\u001b[43mw\u001b[49m\u001b[43m]\u001b[49m   \u001b[38;5;66;03m# for width and height\u001b[39;00m\n\u001b[0;32m    112\u001b[0m     \u001b[38;5;28;01mif\u001b[39;00m is_3d:\n\u001b[0;32m    113\u001b[0m         result[\u001b[38;5;241m.\u001b[39m\u001b[38;5;241m.\u001b[39m\u001b[38;5;241m.\u001b[39m, \u001b[38;5;241m2\u001b[39m:] \u001b[38;5;241m=\u001b[39m keypoints[\u001b[38;5;241m.\u001b[39m\u001b[38;5;241m.\u001b[39m\u001b[38;5;241m.\u001b[39m, \u001b[38;5;241m2\u001b[39m:] \u001b[38;5;241m/\u001b[39m w \u001b[38;5;241m*\u001b[39m \u001b[38;5;241m2\u001b[39m   \u001b[38;5;66;03m# for depth in 3D keypoints\u001b[39;00m\n",
      "\u001b[1;31mTypeError\u001b[0m: unsupported operand type(s) for -: 'Tensor' and 'list'"
     ]
    }
   ],
   "source": [
    "from fit3d_hsc3d_dataset import FitHscDataset3D\n",
    "import numpy  as np\n",
    "\n",
    "def analyze_data_extremes(dataset, split):\n",
    "    max_x, min_x = float('-inf'), float('inf')\n",
    "    max_y, min_y = float('-inf'), float('inf')\n",
    "    max_z, min_z = float('-inf'), float('inf')\n",
    "\n",
    "    for i in range(len(dataset)):\n",
    "        if split == 'train':\n",
    "            keypoints_2d, keypoints_3d = dataset[i]\n",
    "        else:\n",
    "            keypoints_2d, keypoints_3d, _ = dataset[i]\n",
    "        \n",
    "        # 원본 데이터의 최대 최소 값 추출\n",
    "        max_x = max(max_x, keypoints_3d[..., 0].max())\n",
    "        min_x = min(min_x, keypoints_3d[..., 0].min())\n",
    "        max_y = max(max_y, keypoints_3d[..., 1].max())\n",
    "        min_y = min(min_y, keypoints_3d[..., 1].min())\n",
    "        max_z = max(max_z, keypoints_3d[..., 2].max())\n",
    "        min_z = min(min_z, keypoints_3d[..., 2].min())\n",
    "\n",
    "        # 정규화된 데이터의 최대 최소 값 추출\n",
    "        norm_keypoints_3d = np.array(dataset.normalize(keypoints_3d, dataset.res_w, dataset.res_h, is_3d=True))\n",
    "        norm_max_x = norm_keypoints_3d[..., 0].max()\n",
    "        norm_min_x = norm_keypoints_3d[..., 0].min()\n",
    "        norm_max_y = norm_keypoints_3d[..., 1].max()\n",
    "        norm_min_y = norm_keypoints_3d[..., 1].min()\n",
    "        norm_max_z = norm_keypoints_3d[..., 2].max()\n",
    "        norm_min_z = norm_keypoints_3d[..., 2].min()\n",
    "\n",
    "    return {\n",
    "        'original': {\n",
    "            'max_x': max_x, 'min_x': min_x,\n",
    "            'max_y': max_y, 'min_y': min_y,\n",
    "            'max_z': max_z, 'min_z': min_z\n",
    "        },\n",
    "        'normalized': {\n",
    "            'max_x': norm_max_x, 'min_x': norm_min_x,\n",
    "            'max_y': norm_max_y, 'min_y': norm_min_y,\n",
    "            'max_z': norm_max_z, 'min_z': norm_min_z\n",
    "        }\n",
    "    }\n",
    "\n",
    "# 데이터셋 인스턴스화\n",
    "train_dataset = FitHscDataset3D(keypoints_path='../keypoints', data_split='train')\n",
    "test_dataset = FitHscDataset3D(keypoints_path='../keypoints', data_split='val')\n",
    "\n",
    "# Train 및 Test 데이터셋 분석\n",
    "train_data_extremes = analyze_data_extremes(train_dataset, 'train')\n",
    "test_data_extremes = analyze_data_extremes(test_dataset, 'val')\n",
    "\n",
    "(train_data_extremes, test_data_extremes)\n",
    "\n"
   ]
  },
  {
   "cell_type": "code",
   "execution_count": null,
   "metadata": {},
   "outputs": [],
   "source": []
  }
 ],
 "metadata": {
  "kernelspec": {
   "display_name": "motionagformer",
   "language": "python",
   "name": "python3"
  },
  "language_info": {
   "codemirror_mode": {
    "name": "ipython",
    "version": 3
   },
   "file_extension": ".py",
   "mimetype": "text/x-python",
   "name": "python",
   "nbconvert_exporter": "python",
   "pygments_lexer": "ipython3",
   "version": "3.8.10"
  }
 },
 "nbformat": 4,
 "nbformat_minor": 2
}
