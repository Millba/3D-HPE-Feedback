{
 "cells": [
  {
   "cell_type": "code",
   "execution_count": 7,
   "id": "1c0df4ce",
   "metadata": {},
   "outputs": [
    {
     "name": "stdout",
     "output_type": "stream",
     "text": [
      "humansc3d_train_50591643 ::: Height: 900, Width: 900\n",
      "humansc3d_train_58860488 ::: Height: 900, Width: 900\n",
      "humansc3d_train_60457274 ::: Height: 900, Width: 900\n",
      "humansc3d_train_65906101 ::: Height: 900, Width: 900\n",
      "humansc3d_val_50591643 ::: Height: 900, Width: 900\n",
      "humansc3d_val_58860488 ::: Height: 900, Width: 900\n",
      "humansc3d_val_60457274 ::: Height: 900, Width: 900\n",
      "humansc3d_val_65906101 ::: Height: 900, Width: 900\n",
      "fit3d_train_50591643 ::: Height: 900, Width: 900\n",
      "fit3d_train_58860488 ::: Height: 900, Width: 900\n",
      "fit3d_train_60457274 ::: Height: 900, Width: 900\n",
      "fit3d_train_65906101 ::: Height: 900, Width: 900\n",
      "fit3d_val_50591643 ::: Height: 900, Width: 900\n",
      "fit3d_val_58860488 ::: Height: 900, Width: 900\n",
      "fit3d_val_60457274 ::: Height: 900, Width: 900\n",
      "fit3d_val_65906101 ::: Height: 900, Width: 900\n"
     ]
    }
   ],
   "source": [
    "import cv2\n",
    "\n",
    "def get_video_resolution(video_path):\n",
    "    cap = cv2.VideoCapture(video_path)\n",
    "    if not cap.isOpened():\n",
    "        print(\"Error: Video file could not be opened.\")\n",
    "        return -1, -1\n",
    "\n",
    "    res_w = int(cap.get(cv2.CAP_PROP_FRAME_WIDTH))\n",
    "    res_h = int(cap.get(cv2.CAP_PROP_FRAME_HEIGHT))\n",
    "\n",
    "    cap.release()\n",
    "\n",
    "    return res_h, res_w\n",
    "\n",
    "# 비디오 파일 경로\n",
    "humansc3d_train_50591643 = '../humansc3d/train/s01/videos/50591643/001.mp4'\n",
    "humansc3d_train_58860488 = '../humansc3d/train/s01/videos/58860488/001.mp4'\n",
    "humansc3d_train_60457274 = '../humansc3d/train/s01/videos/60457274/001.mp4'\n",
    "humansc3d_train_65906101 = '../humansc3d/train/s01/videos/65906101/001.mp4'\n",
    "\n",
    "humansc3d_val_50591643 = '../humansc3d/val/s06/videos/50591643/001.mp4'\n",
    "humansc3d_val_58860488 = '../humansc3d/val/s06/videos/58860488/001.mp4'\n",
    "humansc3d_val_60457274 = '../humansc3d/val/s06/videos/60457274/001.mp4'\n",
    "humansc3d_val_65906101 = '../humansc3d/val/s06/videos/65906101/001.mp4'\n",
    "\n",
    "fit3d_train_50591643 = '../fit3d/train/s03/videos/50591643/band_pull_apart.mp4'\n",
    "fit3d_train_58860488 = '../fit3d/train/s03/videos/58860488/band_pull_apart.mp4'\n",
    "fit3d_train_60457274 = '../fit3d/train/s03/videos/60457274/band_pull_apart.mp4'\n",
    "fit3d_train_65906101 = '../fit3d/train/s03/videos/65906101/band_pull_apart.mp4'\n",
    "\n",
    "fit3d_val_50591643 = '../fit3d/val/s09/videos/50591643/band_pull_apart.mp4'\n",
    "fit3d_val_58860488 = '../fit3d/val/s09/videos/58860488/band_pull_apart.mp4'\n",
    "fit3d_val_60457274 = '../fit3d/val/s09/videos/60457274/band_pull_apart.mp4'\n",
    "fit3d_val_65906101 = '../fit3d/val/s09/videos/65906101/band_pull_apart.mp4'\n",
    "\n",
    "path = {'humansc3d_train_50591643': humansc3d_train_50591643, 'humansc3d_train_58860488' : humansc3d_train_58860488,\n",
    "        'humansc3d_train_60457274' : humansc3d_train_60457274, 'humansc3d_train_65906101' : humansc3d_train_65906101,\n",
    "        'humansc3d_val_50591643' : humansc3d_val_50591643, 'humansc3d_val_58860488' : humansc3d_val_58860488,\n",
    "        'humansc3d_val_60457274' : humansc3d_val_60457274, 'humansc3d_val_65906101' : humansc3d_val_65906101,\n",
    "        'fit3d_train_50591643' : fit3d_train_50591643, 'fit3d_train_58860488' : fit3d_train_58860488,\n",
    "        'fit3d_train_60457274' : fit3d_train_60457274, 'fit3d_train_65906101' : fit3d_train_65906101,\n",
    "        'fit3d_val_50591643' : fit3d_val_50591643, 'fit3d_val_58860488' : fit3d_val_58860488,\n",
    "        'fit3d_val_60457274' : fit3d_val_60457274, 'fit3d_val_65906101' : fit3d_val_65906101}\n",
    "\n",
    "# 해상도 추출\n",
    "for key, value in path.items():\n",
    "    height, width = get_video_resolution(value)\n",
    "    print(f\"{key} ::: Height: {height}, Width: {width}\")\n"
   ]
  },
  {
   "cell_type": "code",
   "execution_count": 46,
   "id": "8baabe66",
   "metadata": {},
   "outputs": [],
   "source": [
    "import os\n",
    "import json\n",
    "import numpy as np\n",
    "import pandas as pd\n",
    "from tqdm import tqdm"
   ]
  },
  {
   "cell_type": "code",
   "execution_count": 47,
   "id": "abb292a2",
   "metadata": {},
   "outputs": [
    {
     "ename": "SyntaxError",
     "evalue": "EOL while scanning string literal (2213198298.py, line 2)",
     "output_type": "error",
     "traceback": [
      "\u001b[1;36m  Cell \u001b[1;32mIn[47], line 2\u001b[1;36m\u001b[0m\n\u001b[1;33m    humansc3d_root = '../humansc3d/train\u001b[0m\n\u001b[1;37m                                        ^\u001b[0m\n\u001b[1;31mSyntaxError\u001b[0m\u001b[1;31m:\u001b[0m EOL while scanning string literal\n"
     ]
    }
   ],
   "source": [
    "fit3d_root = '../fit3d/train'\n",
    "humansc3d_root = '../humansc3d/train\n",
    "save_root = '../keypoints/train'"
   ]
  },
  {
   "cell_type": "code",
   "execution_count": 48,
   "id": "0f4a4654",
   "metadata": {},
   "outputs": [],
   "source": [
    "def read_json(file_path):\n",
    "    with open(file_path, 'r') as file:\n",
    "        data = json.load(file)\n",
    "    return data"
   ]
  },
  {
   "cell_type": "code",
   "execution_count": 49,
   "id": "38ad9150",
   "metadata": {},
   "outputs": [],
   "source": [
    "def joint_format_to_h36m(joints):\n",
    "    joints_crop = joints[:, :17, :]\n",
    "    idx_pairs = [(11, 14), (12, 15), (13, 16)]\n",
    "    \n",
    "    for idx1, idx2 in idx_pairs:\n",
    "        joints_crop[:, [idx1, idx2]] = joints_crop[:, [idx2, idx1]]\n",
    "\n",
    "    return joints_crop"
   ]
  },
  {
   "cell_type": "code",
   "execution_count": 50,
   "id": "c05905c2",
   "metadata": {},
   "outputs": [],
   "source": [
    "def read_cam_params(cam_path):\n",
    "    with open(cam_path) as f:\n",
    "        cam_params = json.load(f)\n",
    "        for key1 in cam_params:\n",
    "            for key2 in cam_params[key1]:\n",
    "                cam_params[key1][key2] = np.array(cam_params[key1][key2])\n",
    "    return cam_params"
   ]
  },
  {
   "cell_type": "code",
   "execution_count": 51,
   "id": "47de4d76",
   "metadata": {},
   "outputs": [],
   "source": [
    "def project_3d_to_2d(joints3d, intrinsics):\n",
    "    p = intrinsics['p'][:, [1, 0]]\n",
    "    x = joints3d[:, :2] / joints3d[:, 2:3]\n",
    "    r2 = np.sum(x**2, axis=1)\n",
    "    radial = 1 + np.transpose(np.matmul(intrinsics['k'], np.array([r2, r2**2, r2**3])))\n",
    "    tan = np.matmul(x, np.transpose(p))\n",
    "    xx = x*(tan + radial) + r2[:, np.newaxis] * p\n",
    "    proj = intrinsics['f'] * xx + intrinsics['c']\n",
    "    return proj"
   ]
  },
  {
   "cell_type": "code",
   "execution_count": 52,
   "id": "c3cd3c8a",
   "metadata": {},
   "outputs": [],
   "source": [
    "def save_3d_npy(data_root, save_root):\n",
    "    if not os.path.exists(data_root):\n",
    "        raise FileNotFoundError(f\"Data root directory not found: {data_root}\")\n",
    "\n",
    "    if not os.path.exists(save_root):\n",
    "        os.makedirs(save_root)\n",
    "\n",
    "    sub_folder_lst = [name for name in os.listdir(data_root) if os.path.isdir(os.path.join(data_root, name))]\n",
    "    \n",
    "    for sub_folder in sub_folder_lst:\n",
    "        json_path = os.path.join(data_root, sub_folder, 'joints3d_25')\n",
    "        \n",
    "        if not os.path.exists(json_path):\n",
    "            print(f\"Skipping missing directory: {json_path}\")\n",
    "            continue\n",
    "\n",
    "        json_lst = [file for file in os.listdir(json_path) if file.endswith('.json')]\n",
    "        \n",
    "        for i, json_file in enumerate(tqdm(json_lst, desc=f'Processing {sub_folder}')):\n",
    "            joint_file = os.path.join(json_path, json_file)\n",
    "            if not os.path.isfile(joint_file):\n",
    "                print(f\"Skipping missing file: {joint_file}\")\n",
    "                continue\n",
    "\n",
    "            joint_data = read_json(joint_file)\n",
    "            joint_np = np.array(joint_data['joints3d_25'])\n",
    "            joints = joint_format_to_h36m(joint_np)\n",
    "            \n",
    "            print(joints.shape)\n",
    "\n",
    "#             file_path = os.path.join(save_root, f'{sub_folder}_sequence_{i}_3D.npy')\n",
    "#             np.save(file_path, joints)"
   ]
  },
  {
   "cell_type": "code",
   "execution_count": 53,
   "id": "32ecdabd",
   "metadata": {},
   "outputs": [],
   "source": [
    "def save_2d_npy(data_root, output_dir):\n",
    "    if not os.path.exists(output_dir):\n",
    "        os.makedirs(output_dir)\n",
    "\n",
    "    subset = 'train'\n",
    "    subjects = [name for name in os.listdir(data_root) if os.path.isdir(os.path.join(data_root, name))]\n",
    "    cameras = ['50591643', '58860488', '60457274', '65906101']\n",
    "\n",
    "    for subj in subjects:\n",
    "        actions_path = os.path.join(data_root, subset, subj, 'joints3d_25')\n",
    "        actions = [action.split('.')[0] for action in os.listdir(actions_path) if action.endswith('.json')]\n",
    "        for action_index, action in enumerate(tqdm(actions, desc='Saving 2D keypoints')):\n",
    "            for camera_index, cam in enumerate(cameras):\n",
    "                cam_path = os.path.join(data_root, subset, subj, 'camera_parameters', cam, f'{action}.json')\n",
    "                j3d_path = os.path.join(data_root, subset, subj, 'joints3d_25', f'{action}.json')\n",
    "\n",
    "                if not os.path.exists(cam_path) or not os.path.exists(j3d_path):\n",
    "                    continue\n",
    "\n",
    "                cam_params = read_cam_params(cam_path)\n",
    "                with open(j3d_path) as f:\n",
    "                    j3ds = np.array(json.load(f)['joints3d_25'])\n",
    "\n",
    "                all_frames_2d = np.zeros((len(j3ds), 25, 2))\n",
    "                for frame_id, j3d in enumerate(j3ds):\n",
    "                    j2d = project_3d_to_2d(j3d, cam_params['intrinsics'])\n",
    "                    all_frames_2d[frame_id] = j2d\n",
    "\n",
    "                # H36M 포맷으로 변경\n",
    "                all_frames_2d = joint_format_to_h36m(all_frames_2d)\n",
    "\n",
    "                # Confidence score 추가\n",
    "                confidence_scores = np.ones((all_frames_2d.shape[0], all_frames_2d.shape[1], 1))\n",
    "                all_frames_2d_with_confidence = np.concatenate((all_frames_2d, confidence_scores), axis=-1)\n",
    "\n",
    "                output_path = os.path.join(output_dir, f'fit3d_sequence_{action_index + 1}_{camera_index + 1}_2D.npy')\n",
    "                np.save(output_path, all_frames_2d_with_confidence)"
   ]
  },
  {
   "cell_type": "code",
   "execution_count": null,
   "id": "4a006e7b",
   "metadata": {
    "collapsed": true
   },
   "outputs": [],
   "source": [
    "save_3d_npy(humansc3d_root, save_root)"
   ]
  },
  {
   "cell_type": "code",
   "execution_count": 54,
   "id": "14021569",
   "metadata": {},
   "outputs": [],
   "source": [
    "cam_params = read_cam_params('../fit3human/train/S01/camera_parameters/50591643/001.json')"
   ]
  },
  {
   "cell_type": "code",
   "execution_count": 57,
   "id": "46ff84f0",
   "metadata": {},
   "outputs": [
    {
     "data": {
      "text/plain": [
       "dict_keys(['extrinsics', 'intrinsics_w_distortion', 'intrinsics_wo_distortion'])"
      ]
     },
     "execution_count": 57,
     "metadata": {},
     "output_type": "execute_result"
    }
   ],
   "source": [
    "cam_params.keys()"
   ]
  },
  {
   "cell_type": "code",
   "execution_count": 60,
   "id": "912215ef",
   "metadata": {},
   "outputs": [
    {
     "data": {
      "text/plain": [
       "(1, 3)"
      ]
     },
     "execution_count": 60,
     "metadata": {},
     "output_type": "execute_result"
    }
   ],
   "source": [
    "cam_params['extrinsics']['T'].shape"
   ]
  },
  {
   "cell_type": "code",
   "execution_count": 61,
   "id": "9c6d370f",
   "metadata": {},
   "outputs": [
    {
     "data": {
      "text/plain": [
       "{'extrinsics': {'R': array([[-0.40123066, -0.91513736,  0.03921192],\n",
       "         [-0.19776205,  0.04474824, -0.97922815],\n",
       "         [ 0.89437359, -0.40065099, -0.19893381]]),\n",
       "  'T': array([[-3.93689187,  1.94731118,  1.54806366]])},\n",
       " 'intrinsics_w_distortion': {'f': array([[1098.92904454, 1095.92833681]]),\n",
       "  'c': array([[463.93264039, 447.62489594]]),\n",
       "  'k': array([[-0.19654847,  0.10420355,  0.00410303]]),\n",
       "  'p': array([[-0.00045064,  0.00112772]])},\n",
       " 'intrinsics_wo_distortion': {'c': array([463.94235229, 447.64175415]),\n",
       "  'f': array([1096.38378906, 1090.24389648])}}"
      ]
     },
     "execution_count": 61,
     "metadata": {},
     "output_type": "execute_result"
    }
   ],
   "source": [
    "cam_params"
   ]
  },
  {
   "cell_type": "code",
   "execution_count": 73,
   "id": "5f9179ef",
   "metadata": {},
   "outputs": [
    {
     "data": {
      "text/plain": [
       "(1, 2)"
      ]
     },
     "execution_count": 73,
     "metadata": {},
     "output_type": "execute_result"
    }
   ],
   "source": [
    "cam_params['intrinsics_w_distortion']['p'].shape"
   ]
  },
  {
   "cell_type": "code",
   "execution_count": 64,
   "id": "d8baf2c2",
   "metadata": {},
   "outputs": [],
   "source": [
    "import json\n",
    "def read_json(file_path):\n",
    "    with open(file_path, 'r') as file:\n",
    "        data = json.load(file)\n",
    "    return data"
   ]
  },
  {
   "cell_type": "code",
   "execution_count": 77,
   "id": "df705bb6",
   "metadata": {},
   "outputs": [],
   "source": [
    "path = '../fit3human/train/S01/joints3d_25/001.json'\n",
    "j3d = read_json(path)\n",
    "j3d_np = np.array(j3d['joints3d_25'])"
   ]
  },
  {
   "cell_type": "code",
   "execution_count": 82,
   "id": "e38419db",
   "metadata": {},
   "outputs": [
    {
     "data": {
      "text/plain": [
       "(354, 25, 2)"
      ]
     },
     "execution_count": 82,
     "metadata": {},
     "output_type": "execute_result"
    }
   ],
   "source": [
    "j3d_np[:,:,:2].shape"
   ]
  },
  {
   "cell_type": "code",
   "execution_count": 89,
   "id": "5d0e042b",
   "metadata": {},
   "outputs": [],
   "source": [
    "# 254 x 17 x 3 형태의 배열 생성하고, 2차원 좌표를 복사한 후 z값을 1로 설정\n",
    "array_3d = np.ones(j3d_np.shape)  # 모든 값을 1로 초기화\n",
    "array_3d[:, :, :2] = j3d_np[:,:,:2]"
   ]
  },
  {
   "cell_type": "code",
   "execution_count": 90,
   "id": "33c72542",
   "metadata": {},
   "outputs": [
    {
     "data": {
      "text/plain": [
       "array([[[ 0.0285847,  0.119295 ,  1.       ],\n",
       "        [ 0.0399862,  0.251669 ,  1.       ],\n",
       "        [ 0.0237128,  0.2429   ,  1.       ],\n",
       "        ...,\n",
       "        [ 0.170764 ,  0.429925 ,  1.       ],\n",
       "        [ 0.167963 , -0.141363 ,  1.       ],\n",
       "        [ 0.142642 , -0.228158 ,  1.       ]],\n",
       "\n",
       "       [[ 0.0287701,  0.119362 ,  1.       ],\n",
       "        [ 0.0401995,  0.251732 ,  1.       ],\n",
       "        [ 0.0238572,  0.24293  ,  1.       ],\n",
       "        ...,\n",
       "        [ 0.171043 ,  0.429779 ,  1.       ],\n",
       "        [ 0.168129 , -0.141836 ,  1.       ],\n",
       "        [ 0.142807 , -0.22837  ,  1.       ]],\n",
       "\n",
       "       [[ 0.0289465,  0.119448 ,  1.       ],\n",
       "        [ 0.0403863,  0.251815 ,  1.       ],\n",
       "        [ 0.024038 ,  0.242967 ,  1.       ],\n",
       "        ...,\n",
       "        [ 0.171404 ,  0.429697 ,  1.       ],\n",
       "        [ 0.1683   , -0.142066 ,  1.       ],\n",
       "        [ 0.142885 , -0.228559 ,  1.       ]],\n",
       "\n",
       "       ...,\n",
       "\n",
       "       [[ 0.0343252,  0.121446 ,  1.       ],\n",
       "        [ 0.0459674,  0.253835 ,  1.       ],\n",
       "        [ 0.027177 ,  0.243549 ,  1.       ],\n",
       "        ...,\n",
       "        [ 0.195591 ,  0.411728 ,  1.       ],\n",
       "        [ 0.176393 , -0.0996546,  1.       ],\n",
       "        [ 0.172508 , -0.194903 ,  1.       ]],\n",
       "\n",
       "       [[ 0.0347597,  0.120949 ,  1.       ],\n",
       "        [ 0.0464835,  0.253334 ,  1.       ],\n",
       "        [ 0.0274207,  0.243279 ,  1.       ],\n",
       "        ...,\n",
       "        [ 0.198238 ,  0.409692 ,  1.       ],\n",
       "        [ 0.178713 , -0.0976407,  1.       ],\n",
       "        [ 0.177026 , -0.19236  ,  1.       ]],\n",
       "\n",
       "       [[ 0.0351388,  0.120419 ,  1.       ],\n",
       "        [ 0.0470555,  0.252789 ,  1.       ],\n",
       "        [ 0.0277349,  0.242977 ,  1.       ],\n",
       "        ...,\n",
       "        [ 0.20095  ,  0.407615 ,  1.       ],\n",
       "        [ 0.182171 , -0.0969964,  1.       ],\n",
       "        [ 0.181254 , -0.190284 ,  1.       ]]])"
      ]
     },
     "execution_count": 90,
     "metadata": {},
     "output_type": "execute_result"
    }
   ],
   "source": [
    "array_3d"
   ]
  },
  {
   "cell_type": "code",
   "execution_count": 1,
   "id": "bae23bae",
   "metadata": {},
   "outputs": [
    {
     "ename": "NameError",
     "evalue": "name 'FitHscDataset3D' is not defined",
     "output_type": "error",
     "traceback": [
      "\u001b[1;31m---------------------------------------------------------------------------\u001b[0m",
      "\u001b[1;31mNameError\u001b[0m                                 Traceback (most recent call last)",
      "Cell \u001b[1;32mIn[1], line 40\u001b[0m\n\u001b[0;32m     26\u001b[0m     \u001b[38;5;28;01mreturn\u001b[39;00m {\n\u001b[0;32m     27\u001b[0m         \u001b[38;5;124m'\u001b[39m\u001b[38;5;124moriginal\u001b[39m\u001b[38;5;124m'\u001b[39m: {\n\u001b[0;32m     28\u001b[0m             \u001b[38;5;124m'\u001b[39m\u001b[38;5;124mmax_x\u001b[39m\u001b[38;5;124m'\u001b[39m: max_x, \u001b[38;5;124m'\u001b[39m\u001b[38;5;124mmin_x\u001b[39m\u001b[38;5;124m'\u001b[39m: min_x,\n\u001b[1;32m   (...)\u001b[0m\n\u001b[0;32m     36\u001b[0m         }\n\u001b[0;32m     37\u001b[0m     }\n\u001b[0;32m     39\u001b[0m \u001b[38;5;66;03m# 데이터셋 인스턴스화\u001b[39;00m\n\u001b[1;32m---> 40\u001b[0m train_dataset \u001b[38;5;241m=\u001b[39m \u001b[43mFitHscDataset3D\u001b[49m(keypoints_path\u001b[38;5;241m=\u001b[39m\u001b[38;5;124m'\u001b[39m\u001b[38;5;124m../keypoints\u001b[39m\u001b[38;5;124m'\u001b[39m, data_split\u001b[38;5;241m=\u001b[39m\u001b[38;5;124m'\u001b[39m\u001b[38;5;124mtrain\u001b[39m\u001b[38;5;124m'\u001b[39m)\n\u001b[0;32m     41\u001b[0m test_dataset \u001b[38;5;241m=\u001b[39m FitHscDataset3D(keypoints_path\u001b[38;5;241m=\u001b[39m\u001b[38;5;124m'\u001b[39m\u001b[38;5;124m../keypoints\u001b[39m\u001b[38;5;124m'\u001b[39m, data_split\u001b[38;5;241m=\u001b[39m\u001b[38;5;124m'\u001b[39m\u001b[38;5;124mval\u001b[39m\u001b[38;5;124m'\u001b[39m)\n\u001b[0;32m     43\u001b[0m \u001b[38;5;66;03m# Train 및 Test 데이터셋 분석\u001b[39;00m\n",
      "\u001b[1;31mNameError\u001b[0m: name 'FitHscDataset3D' is not defined"
     ]
    }
   ],
   "source": []
  },
  {
   "cell_type": "code",
   "execution_count": null,
   "id": "455896a4",
   "metadata": {},
   "outputs": [],
   "source": []
  },
  {
   "cell_type": "code",
   "execution_count": null,
   "id": "554bb4ec",
   "metadata": {},
   "outputs": [],
   "source": []
  },
  {
   "cell_type": "code",
   "execution_count": null,
   "id": "65e7d803",
   "metadata": {},
   "outputs": [],
   "source": []
  },
  {
   "cell_type": "code",
   "execution_count": null,
   "id": "74ea2e5e",
   "metadata": {},
   "outputs": [],
   "source": []
  },
  {
   "cell_type": "code",
   "execution_count": null,
   "id": "30edbe3b",
   "metadata": {},
   "outputs": [],
   "source": []
  },
  {
   "cell_type": "code",
   "execution_count": null,
   "id": "92cfd7ad",
   "metadata": {},
   "outputs": [],
   "source": []
  },
  {
   "cell_type": "code",
   "execution_count": null,
   "id": "7617ef84",
   "metadata": {},
   "outputs": [],
   "source": []
  },
  {
   "cell_type": "code",
   "execution_count": null,
   "id": "432cf0f3",
   "metadata": {},
   "outputs": [],
   "source": []
  },
  {
   "cell_type": "code",
   "execution_count": null,
   "id": "c40142aa",
   "metadata": {},
   "outputs": [],
   "source": []
  },
  {
   "cell_type": "code",
   "execution_count": null,
   "id": "711838a0",
   "metadata": {},
   "outputs": [],
   "source": []
  },
  {
   "cell_type": "code",
   "execution_count": null,
   "id": "6566b53c",
   "metadata": {},
   "outputs": [],
   "source": []
  },
  {
   "cell_type": "code",
   "execution_count": null,
   "id": "996be277",
   "metadata": {},
   "outputs": [],
   "source": []
  },
  {
   "cell_type": "code",
   "execution_count": null,
   "id": "9ee5d9c4",
   "metadata": {},
   "outputs": [],
   "source": []
  },
  {
   "cell_type": "code",
   "execution_count": null,
   "id": "897e1031",
   "metadata": {},
   "outputs": [],
   "source": []
  },
  {
   "cell_type": "code",
   "execution_count": null,
   "id": "eb784373",
   "metadata": {},
   "outputs": [],
   "source": []
  },
  {
   "cell_type": "code",
   "execution_count": null,
   "id": "4e108bbf",
   "metadata": {},
   "outputs": [],
   "source": []
  },
  {
   "cell_type": "code",
   "execution_count": null,
   "id": "713d604c",
   "metadata": {},
   "outputs": [],
   "source": []
  },
  {
   "cell_type": "code",
   "execution_count": 32,
   "id": "f4d44609",
   "metadata": {},
   "outputs": [
    {
     "data": {
      "text/plain": [
       "564"
      ]
     },
     "execution_count": 32,
     "metadata": {},
     "output_type": "execute_result"
    }
   ],
   "source": [
    "47*3*4"
   ]
  },
  {
   "cell_type": "code",
   "execution_count": 37,
   "id": "3af67b7e",
   "metadata": {},
   "outputs": [
    {
     "data": {
      "text/plain": [
       "516"
      ]
     },
     "execution_count": 37,
     "metadata": {},
     "output_type": "execute_result"
    }
   ],
   "source": [
    "172*3"
   ]
  },
  {
   "cell_type": "code",
   "execution_count": 38,
   "id": "aed4b478",
   "metadata": {},
   "outputs": [
    {
     "data": {
      "text/plain": [
       "0"
      ]
     },
     "execution_count": 38,
     "metadata": {},
     "output_type": "execute_result"
    }
   ],
   "source": [
    "len([name for name in os.listdir('../keypoints/train') if os.path.isdir(os.path.join('../keypoints/train', name))])"
   ]
  },
  {
   "cell_type": "code",
   "execution_count": 44,
   "id": "dd286d34",
   "metadata": {},
   "outputs": [
    {
     "data": {
      "text/plain": [
       "6008"
      ]
     },
     "execution_count": 44,
     "metadata": {},
     "output_type": "execute_result"
    }
   ],
   "source": [
    "len([action.split('.')[0] for action in os.listdir('../keypoints/train') if action.endswith('.npy')])"
   ]
  },
  {
   "cell_type": "code",
   "execution_count": 42,
   "id": "d8ad0f09",
   "metadata": {},
   "outputs": [
    {
     "data": {
      "text/plain": [
       "2504"
      ]
     },
     "execution_count": 42,
     "metadata": {},
     "output_type": "execute_result"
    }
   ],
   "source": [
    "(564+688)*2"
   ]
  },
  {
   "cell_type": "code",
   "execution_count": 91,
   "id": "f36c36a7",
   "metadata": {},
   "outputs": [],
   "source": [
    "import numpy as np\n",
    "data_3d = np.load('../keypoints/train/sequence_100_3D.npy')\n",
    "data_2d = np.load('../keypoints/train/sequence_100_2D.npy')"
   ]
  },
  {
   "cell_type": "code",
   "execution_count": 32,
   "id": "2d05b8d2",
   "metadata": {},
   "outputs": [],
   "source": [
    "root_joint = np.array([-0.0426111, 0.170725, 0.913295])"
   ]
  },
  {
   "cell_type": "code",
   "execution_count": 33,
   "id": "2418bdc4",
   "metadata": {},
   "outputs": [
    {
     "data": {
      "text/plain": [
       "array([-1.00004261e+03, -9.99829275e+02,  9.13295000e-01])"
      ]
     },
     "execution_count": 33,
     "metadata": {},
     "output_type": "execute_result"
    }
   ],
   "source": [
    "tl_joint = np.array([-0.0426111, 0.170725, 0.913295])\n",
    "br_joint = np.array([-0.0426111, 0.170725, 0.913295])\n",
    "\n",
    "tl_joint[:2] -= 1000;tl_joint\n",
    "br_joint[:2] -= 1000;br_joint"
   ]
  },
  {
   "cell_type": "code",
   "execution_count": 36,
   "id": "73a2792e",
   "metadata": {},
   "outputs": [
    {
     "data": {
      "text/plain": [
       "(226, 17, 3)"
      ]
     },
     "execution_count": 36,
     "metadata": {},
     "output_type": "execute_result"
    }
   ],
   "source": [
    "data_2d.shape"
   ]
  },
  {
   "cell_type": "code",
   "execution_count": 43,
   "id": "2e647fd1",
   "metadata": {},
   "outputs": [
    {
     "data": {
      "text/plain": [
       "1.0"
      ]
     },
     "execution_count": 43,
     "metadata": {},
     "output_type": "execute_result"
    }
   ],
   "source": [
    "data_2d[:,:,2].max()"
   ]
  },
  {
   "cell_type": "code",
   "execution_count": 94,
   "id": "2e3367f9",
   "metadata": {},
   "outputs": [
    {
     "data": {
      "text/plain": [
       "-92.17922591442976"
      ]
     },
     "execution_count": 94,
     "metadata": {},
     "output_type": "execute_result"
    }
   ],
   "source": [
    "np.min(data_3d)"
   ]
  },
  {
   "cell_type": "code",
   "execution_count": 95,
   "id": "de7c9563",
   "metadata": {},
   "outputs": [
    {
     "data": {
      "text/plain": [
       "array([[ 3.99570650e+02, -9.17661183e+00,  0.00000000e+00],\n",
       "       [ 4.18977523e+02,  6.14266511e+00, -2.86230753e-04],\n",
       "       [ 3.77158641e+02,  5.53120847e+01, -1.11931529e-04],\n",
       "       [ 3.30084346e+02,  1.20986303e+02,  3.50068974e-05],\n",
       "       [ 3.80025919e+02, -2.41102920e+01,  2.87550528e-04],\n",
       "       [ 3.35163069e+02,  2.15552276e+01,  4.87339058e-04],\n",
       "       [ 2.80669675e+02,  8.15747370e+01,  7.21179155e-04],\n",
       "       [ 4.20440766e+02, -3.17210996e+01, -9.48535891e-05],\n",
       "       [ 4.46600545e+02, -5.21001057e+01, -2.65017317e-04],\n",
       "       [ 4.58378124e+02, -6.82547494e+01, -3.07937698e-04],\n",
       "       [ 4.63259524e+02, -6.78900021e+01, -3.60612810e-04],\n",
       "       [ 4.19389331e+02, -5.98104027e+01,  7.80673980e-05],\n",
       "       [ 3.79266085e+02, -5.48338413e+01,  4.67170495e-04],\n",
       "       [ 3.57441432e+02, -5.48476033e+01,  6.54796968e-04],\n",
       "       [ 4.60825125e+02, -3.02730317e+01, -5.42014933e-04],\n",
       "       [ 4.52901060e+02,  3.85661754e+00, -6.35684790e-04],\n",
       "       [ 4.41746837e+02,  1.92050114e+01, -5.94609831e-04]])"
      ]
     },
     "execution_count": 95,
     "metadata": {},
     "output_type": "execute_result"
    }
   ],
   "source": [
    "data_3d[0]"
   ]
  },
  {
   "cell_type": "code",
   "execution_count": 15,
   "id": "603b4bb0",
   "metadata": {},
   "outputs": [
    {
     "data": {
      "text/plain": [
       "array([[[4.06872734e+02, 6.19146759e+02, 1.00000000e+00],\n",
       "        [4.12434448e+02, 7.68991106e+02, 1.00000000e+00],\n",
       "        [3.62214253e+02, 1.04643387e+03, 1.00000000e+00],\n",
       "        ...,\n",
       "        [4.06780685e+02, 6.94799807e+02, 1.00000000e+00],\n",
       "        [4.08812666e+02, 8.36364350e+02, 1.00000000e+00],\n",
       "        [5.04518878e+02, 9.60438882e+02, 1.00000000e+00]],\n",
       "\n",
       "       [[4.06210242e+02, 6.19338396e+02, 1.00000000e+00],\n",
       "        [4.11545832e+02, 7.69183110e+02, 1.00000000e+00],\n",
       "        [3.61761729e+02, 1.04654996e+03, 1.00000000e+00],\n",
       "        ...,\n",
       "        [4.06694729e+02, 6.94977070e+02, 1.00000000e+00],\n",
       "        [4.08108801e+02, 8.36473790e+02, 1.00000000e+00],\n",
       "        [5.02779350e+02, 9.60758480e+02, 1.00000000e+00]],\n",
       "\n",
       "       [[4.05748607e+02, 6.19531831e+02, 1.00000000e+00],\n",
       "        [4.10675689e+02, 7.69393519e+02, 1.00000000e+00],\n",
       "        [3.61743749e+02, 1.04630756e+03, 1.00000000e+00],\n",
       "        ...,\n",
       "        [4.06634652e+02, 6.95069743e+02, 1.00000000e+00],\n",
       "        [4.07344759e+02, 8.36572932e+02, 1.00000000e+00],\n",
       "        [5.01171312e+02, 9.60907763e+02, 1.00000000e+00]],\n",
       "\n",
       "       ...,\n",
       "\n",
       "       [[4.59963133e+02, 6.12255252e+02, 1.00000000e+00],\n",
       "        [4.73832299e+02, 7.62995972e+02, 1.00000000e+00],\n",
       "        [4.15467403e+02, 1.04468937e+03, 1.00000000e+00],\n",
       "        ...,\n",
       "        [4.43176081e+02, 6.92314940e+02, 1.00000000e+00],\n",
       "        [4.57095829e+02, 8.36883135e+02, 1.00000000e+00],\n",
       "        [5.74868668e+02, 9.65530715e+02, 1.00000000e+00]],\n",
       "\n",
       "       [[4.59484984e+02, 6.11783031e+02, 1.00000000e+00],\n",
       "        [4.73597717e+02, 7.62514871e+02, 1.00000000e+00],\n",
       "        [4.15582120e+02, 1.04421800e+03, 1.00000000e+00],\n",
       "        ...,\n",
       "        [4.42567331e+02, 6.92360093e+02, 1.00000000e+00],\n",
       "        [4.57135645e+02, 8.36777897e+02, 1.00000000e+00],\n",
       "        [5.75495669e+02, 9.64801373e+02, 1.00000000e+00]],\n",
       "\n",
       "       [[4.58941689e+02, 6.11452505e+02, 1.00000000e+00],\n",
       "        [4.73164352e+02, 7.62176604e+02, 1.00000000e+00],\n",
       "        [4.15407551e+02, 1.04384399e+03, 1.00000000e+00],\n",
       "        ...,\n",
       "        [4.41761952e+02, 6.92450457e+02, 1.00000000e+00],\n",
       "        [4.56864694e+02, 8.36588851e+02, 1.00000000e+00],\n",
       "        [5.75645365e+02, 9.64084303e+02, 1.00000000e+00]]])"
      ]
     },
     "execution_count": 15,
     "metadata": {},
     "output_type": "execute_result"
    }
   ],
   "source": [
    "data_2d"
   ]
  },
  {
   "cell_type": "code",
   "execution_count": 18,
   "id": "6a795b0e",
   "metadata": {},
   "outputs": [
    {
     "data": {
      "text/plain": [
       "-167778384.48020098"
      ]
     },
     "execution_count": 18,
     "metadata": {},
     "output_type": "execute_result"
    }
   ],
   "source": [
    "np.min(data_2d)"
   ]
  },
  {
   "cell_type": "code",
   "execution_count": 19,
   "id": "dc264e71",
   "metadata": {},
   "outputs": [
    {
     "data": {
      "text/plain": [
       "352449190.5205567"
      ]
     },
     "execution_count": 19,
     "metadata": {},
     "output_type": "execute_result"
    }
   ],
   "source": [
    "np.max(data_2d)"
   ]
  },
  {
   "cell_type": "code",
   "execution_count": 25,
   "id": "c48e3c26",
   "metadata": {},
   "outputs": [
    {
     "data": {
      "text/plain": [
       "array([[[1., 1., 1.],\n",
       "        [1., 1., 1.],\n",
       "        [1., 1., 1.],\n",
       "        ...,\n",
       "        [1., 1., 1.],\n",
       "        [1., 1., 1.],\n",
       "        [1., 1., 1.]],\n",
       "\n",
       "       [[1., 1., 1.],\n",
       "        [1., 1., 1.],\n",
       "        [1., 1., 1.],\n",
       "        ...,\n",
       "        [1., 1., 1.],\n",
       "        [1., 1., 1.],\n",
       "        [1., 1., 1.]],\n",
       "\n",
       "       [[1., 1., 1.],\n",
       "        [1., 1., 1.],\n",
       "        [1., 1., 1.],\n",
       "        ...,\n",
       "        [1., 1., 1.],\n",
       "        [1., 1., 1.],\n",
       "        [1., 1., 1.]],\n",
       "\n",
       "       ...,\n",
       "\n",
       "       [[1., 1., 1.],\n",
       "        [1., 1., 1.],\n",
       "        [1., 1., 1.],\n",
       "        ...,\n",
       "        [1., 1., 1.],\n",
       "        [1., 1., 1.],\n",
       "        [1., 1., 1.]],\n",
       "\n",
       "       [[1., 1., 1.],\n",
       "        [1., 1., 1.],\n",
       "        [1., 1., 1.],\n",
       "        ...,\n",
       "        [1., 1., 1.],\n",
       "        [1., 1., 1.],\n",
       "        [1., 1., 1.]],\n",
       "\n",
       "       [[1., 1., 1.],\n",
       "        [1., 1., 1.],\n",
       "        [1., 1., 1.],\n",
       "        ...,\n",
       "        [1., 1., 1.],\n",
       "        [1., 1., 1.],\n",
       "        [1., 1., 1.]]])"
      ]
     },
     "execution_count": 25,
     "metadata": {},
     "output_type": "execute_result"
    }
   ],
   "source": [
    "data_np = np.random.rand(243, 17, 3)\n",
    "data = np.zeros_like(data_np)\n",
    "for idx, frame in enumerate(data):\n",
    "    add = np.array([1,1,1])\n",
    "    data[idx] = add\n",
    "data"
   ]
  },
  {
   "cell_type": "code",
   "execution_count": 22,
   "id": "a5777a83",
   "metadata": {},
   "outputs": [
    {
     "data": {
      "text/plain": [
       "array([[3.41086310e-02, 8.07247187e-01, 3.70000493e-01],\n",
       "       [8.73030871e-01, 1.95725620e-01, 5.42902961e-01],\n",
       "       [6.50396147e-01, 5.80490505e-02, 6.66372736e-01],\n",
       "       [3.41833583e-01, 5.56208982e-01, 1.95303397e-02],\n",
       "       [4.26217632e-01, 1.99433086e-01, 7.06356505e-01],\n",
       "       [6.73847204e-01, 8.76644840e-01, 2.69465785e-01],\n",
       "       [4.49628964e-01, 1.41309592e-02, 3.54222155e-02],\n",
       "       [2.18800975e-01, 7.78031412e-03, 9.73438014e-01],\n",
       "       [4.24484422e-01, 6.07890840e-01, 7.82625629e-01],\n",
       "       [3.15955298e-02, 5.59159180e-01, 8.04391902e-02],\n",
       "       [3.77930309e-01, 9.61400320e-01, 5.63913122e-02],\n",
       "       [3.92691211e-01, 8.65595349e-01, 6.89526251e-04],\n",
       "       [4.18727779e-01, 5.47951071e-01, 7.90201308e-02],\n",
       "       [5.98066799e-01, 7.47652461e-01, 1.81199207e-01],\n",
       "       [7.27966177e-01, 4.52394697e-01, 5.63330293e-01],\n",
       "       [5.76688467e-01, 1.97746639e-01, 2.90129841e-01],\n",
       "       [6.09717768e-01, 5.49163152e-02, 2.14429951e-01]])"
      ]
     },
     "execution_count": 22,
     "metadata": {},
     "output_type": "execute_result"
    }
   ],
   "source": [
    "data_np[0]"
   ]
  }
 ],
 "metadata": {
  "kernelspec": {
   "display_name": "motionagformer",
   "language": "python",
   "name": "python3"
  },
  "language_info": {
   "codemirror_mode": {
    "name": "ipython",
    "version": 3
   },
   "file_extension": ".py",
   "mimetype": "text/x-python",
   "name": "python",
   "nbconvert_exporter": "python",
   "pygments_lexer": "ipython3",
   "version": "3.8.10"
  }
 },
 "nbformat": 4,
 "nbformat_minor": 5
}
