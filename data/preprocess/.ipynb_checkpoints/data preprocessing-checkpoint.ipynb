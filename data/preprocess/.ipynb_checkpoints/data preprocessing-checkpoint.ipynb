{
 "cells": [
  {
   "cell_type": "code",
   "execution_count": 6,
   "id": "1c0df4ce",
   "metadata": {},
   "outputs": [
    {
     "name": "stdout",
     "output_type": "stream",
     "text": [
      "Height: 900, Width: 900\n"
     ]
    }
   ],
   "source": [
    "import cv2\n",
    "\n",
    "def get_video_resolution(video_path):\n",
    "    # 비디오 캡처 객체 생성\n",
    "    cap = cv2.VideoCapture(video_path)\n",
    "    if not cap.isOpened():\n",
    "        print(\"Error: Video file could not be opened.\")\n",
    "        return -1, -1\n",
    "\n",
    "\n",
    "    # 너비와 높이 추출\n",
    "    res_w = int(cap.get(cv2.CAP_PROP_FRAME_WIDTH))\n",
    "    res_h = int(cap.get(cv2.CAP_PROP_FRAME_HEIGHT))\n",
    "\n",
    "    # 비디오 캡처 객체 해제\n",
    "    cap.release()\n",
    "\n",
    "    return res_h, res_w\n",
    "\n",
    "# 비디오 파일 경로\n",
    "video_path = '../humansc3d/train/s01/videos/58860488/001.mp4'\n",
    "\n",
    "# 해상도 추출\n",
    "height, width = get_video_resolution(video_path)\n",
    "print(f\"Height: {height}, Width: {width}\")\n"
   ]
  },
  {
   "cell_type": "code",
   "execution_count": 1,
   "id": "8baabe66",
   "metadata": {},
   "outputs": [],
   "source": [
    "import os\n",
    "import json\n",
    "import numpy as np\n",
    "import pandas as pd\n",
    "from tqdm import tqdm"
   ]
  },
  {
   "cell_type": "code",
   "execution_count": 17,
   "id": "abb292a2",
   "metadata": {},
   "outputs": [],
   "source": [
    "fit3d_root = '../fit3d/train'\n",
    "humansc3d_root = '../humansc3d/train\n",
    "save_root = '../keypoints/train'"
   ]
  },
  {
   "cell_type": "code",
   "execution_count": 18,
   "id": "0f4a4654",
   "metadata": {},
   "outputs": [],
   "source": [
    "def read_json(file_path):\n",
    "    with open(file_path, 'r') as file:\n",
    "        data = json.load(file)\n",
    "    return data"
   ]
  },
  {
   "cell_type": "code",
   "execution_count": 19,
   "id": "38ad9150",
   "metadata": {},
   "outputs": [],
   "source": [
    "def joint_format_to_h36m(joints):\n",
    "    joints_crop = joints[:, :17, :]\n",
    "    idx_pairs = [(11, 14), (12, 15), (13, 16)]\n",
    "    \n",
    "    for idx1, idx2 in idx_pairs:\n",
    "        joints_crop[:, [idx1, idx2]] = joints_crop[:, [idx2, idx1]]\n",
    "\n",
    "    return joints_crop"
   ]
  },
  {
   "cell_type": "code",
   "execution_count": 20,
   "id": "c05905c2",
   "metadata": {},
   "outputs": [],
   "source": [
    "def read_cam_params(cam_path):\n",
    "    with open(cam_path) as f:\n",
    "        cam_params = json.load(f)\n",
    "        for key1 in cam_params:\n",
    "            for key2 in cam_params[key1]:\n",
    "                cam_params[key1][key2] = np.array(cam_params[key1][key2])\n",
    "    return cam_params"
   ]
  },
  {
   "cell_type": "code",
   "execution_count": 21,
   "id": "47de4d76",
   "metadata": {},
   "outputs": [],
   "source": [
    "def project_3d_to_2d(joints3d, intrinsics):\n",
    "    p = intrinsics['p'][:, [1, 0]]\n",
    "    x = joints3d[:, :2] / joints3d[:, 2:3]\n",
    "    r2 = np.sum(x**2, axis=1)\n",
    "    radial = 1 + np.transpose(np.matmul(intrinsics['k'], np.array([r2, r2**2, r2**3])))\n",
    "    tan = np.matmul(x, np.transpose(p))\n",
    "    xx = x*(tan + radial) + r2[:, np.newaxis] * p\n",
    "    proj = intrinsics['f'] * xx + intrinsics['c']\n",
    "    return proj"
   ]
  },
  {
   "cell_type": "code",
   "execution_count": 24,
   "id": "c3cd3c8a",
   "metadata": {},
   "outputs": [],
   "source": [
    "def save_3d_npy(data_root, save_root):\n",
    "    if not os.path.exists(data_root):\n",
    "        raise FileNotFoundError(f\"Data root directory not found: {data_root}\")\n",
    "\n",
    "    if not os.path.exists(save_root):\n",
    "        os.makedirs(save_root)\n",
    "\n",
    "    sub_folder_lst = [name for name in os.listdir(data_root) if os.path.isdir(os.path.join(data_root, name))]\n",
    "    \n",
    "    for sub_folder in sub_folder_lst:\n",
    "        json_path = os.path.join(data_root, sub_folder, 'joints3d_25')\n",
    "        \n",
    "        if not os.path.exists(json_path):\n",
    "            print(f\"Skipping missing directory: {json_path}\")\n",
    "            continue\n",
    "\n",
    "        json_lst = [file for file in os.listdir(json_path) if file.endswith('.json')]\n",
    "        \n",
    "        for i, json_file in enumerate(tqdm(json_lst, desc=f'Processing {sub_folder}')):\n",
    "            joint_file = os.path.join(json_path, json_file)\n",
    "            if not os.path.isfile(joint_file):\n",
    "                print(f\"Skipping missing file: {joint_file}\")\n",
    "                continue\n",
    "\n",
    "            joint_data = read_json(joint_file)\n",
    "            joint_np = np.array(joint_data['joints3d_25'])\n",
    "            joints = joint_format_to_h36m(joint_np)\n",
    "            \n",
    "            print(joints.shape)\n",
    "\n",
    "#             file_path = os.path.join(save_root, f'{sub_folder}_sequence_{i}_3D.npy')\n",
    "#             np.save(file_path, joints)"
   ]
  },
  {
   "cell_type": "code",
   "execution_count": 23,
   "id": "32ecdabd",
   "metadata": {},
   "outputs": [],
   "source": [
    "def save_2d_npy(data_root, output_dir):\n",
    "    if not os.path.exists(output_dir):\n",
    "        os.makedirs(output_dir)\n",
    "\n",
    "    subset = 'train'\n",
    "    subjects = [name for name in os.listdir(data_root) if os.path.isdir(os.path.join(data_root, name))]\n",
    "    cameras = ['50591643', '58860488', '60457274', '65906101']\n",
    "\n",
    "    for subj in subjects:\n",
    "        actions_path = os.path.join(data_root, subset, subj, 'joints3d_25')\n",
    "        actions = [action.split('.')[0] for action in os.listdir(actions_path) if action.endswith('.json')]\n",
    "        for action_index, action in enumerate(tqdm(actions, desc='Saving 2D keypoints')):\n",
    "            for camera_index, cam in enumerate(cameras):\n",
    "                cam_path = os.path.join(data_root, subset, subj, 'camera_parameters', cam, f'{action}.json')\n",
    "                j3d_path = os.path.join(data_root, subset, subj, 'joints3d_25', f'{action}.json')\n",
    "\n",
    "                if not os.path.exists(cam_path) or not os.path.exists(j3d_path):\n",
    "                    continue\n",
    "\n",
    "                cam_params = read_cam_params(cam_path)\n",
    "                with open(j3d_path) as f:\n",
    "                    j3ds = np.array(json.load(f)['joints3d_25'])\n",
    "\n",
    "                all_frames_2d = np.zeros((len(j3ds), 25, 2))\n",
    "                for frame_id, j3d in enumerate(j3ds):\n",
    "                    j2d = project_3d_to_2d(j3d, cam_params['intrinsics'])\n",
    "                    all_frames_2d[frame_id] = j2d\n",
    "\n",
    "                # H36M 포맷으로 변경\n",
    "                all_frames_2d = joint_format_to_h36m(all_frames_2d)\n",
    "\n",
    "                # Confidence score 추가\n",
    "                confidence_scores = np.ones((all_frames_2d.shape[0], all_frames_2d.shape[1], 1))\n",
    "                all_frames_2d_with_confidence = np.concatenate((all_frames_2d, confidence_scores), axis=-1)\n",
    "\n",
    "                output_path = os.path.join(output_dir, f'fit3d_sequence_{action_index + 1}_{camera_index + 1}_2D.npy')\n",
    "                np.save(output_path, all_frames_2d_with_confidence)"
   ]
  },
  {
   "cell_type": "code",
   "execution_count": 25,
   "id": "4a006e7b",
   "metadata": {
    "collapsed": true
   },
   "outputs": [
    {
     "name": "stderr",
     "output_type": "stream",
     "text": [
      "Processing s01:   5%|███▍                                                              | 9/172 [00:00<00:01, 86.37it/s]"
     ]
    },
    {
     "name": "stdout",
     "output_type": "stream",
     "text": [
      "(354, 17, 3)\n",
      "(262, 17, 3)\n",
      "(246, 17, 3)\n",
      "(292, 17, 3)\n",
      "(347, 17, 3)\n",
      "(291, 17, 3)\n",
      "(257, 17, 3)\n",
      "(239, 17, 3)\n",
      "(284, 17, 3)\n",
      "(278, 17, 3)\n",
      "(480, 17, 3)\n",
      "(332, 17, 3)\n",
      "(214, 17, 3)\n",
      "(275, 17, 3)\n",
      "(246, 17, 3)\n",
      "(227, 17, 3)\n",
      "(217, 17, 3)\n",
      "(217, 17, 3)\n",
      "(236, 17, 3)\n",
      "(321, 17, 3)\n"
     ]
    },
    {
     "name": "stderr",
     "output_type": "stream",
     "text": [
      "Processing s01:  18%|███████████▋                                                     | 31/172 [00:00<00:01, 96.44it/s]"
     ]
    },
    {
     "name": "stdout",
     "output_type": "stream",
     "text": [
      "(261, 17, 3)\n",
      "(236, 17, 3)\n",
      "(266, 17, 3)\n",
      "(241, 17, 3)\n",
      "(226, 17, 3)\n",
      "(245, 17, 3)\n",
      "(246, 17, 3)\n",
      "(257, 17, 3)\n",
      "(304, 17, 3)\n",
      "(288, 17, 3)\n",
      "(295, 17, 3)\n",
      "(257, 17, 3)\n",
      "(252, 17, 3)\n",
      "(290, 17, 3)\n",
      "(257, 17, 3)\n",
      "(304, 17, 3)\n",
      "(266, 17, 3)\n",
      "(244, 17, 3)\n",
      "(220, 17, 3)\n",
      "(281, 17, 3)\n",
      "(206, 17, 3)\n"
     ]
    },
    {
     "name": "stderr",
     "output_type": "stream",
     "text": [
      "\r",
      "Processing s01:  24%|███████████████▋                                                | 42/172 [00:00<00:01, 101.18it/s]"
     ]
    },
    {
     "name": "stdout",
     "output_type": "stream",
     "text": [
      "(186, 17, 3)\n",
      "(180, 17, 3)\n",
      "(253, 17, 3)\n",
      "(216, 17, 3)\n",
      "(226, 17, 3)\n",
      "(200, 17, 3)\n",
      "(181, 17, 3)\n",
      "(226, 17, 3)\n",
      "(204, 17, 3)\n",
      "(262, 17, 3)\n",
      "(279, 17, 3)\n"
     ]
    },
    {
     "name": "stderr",
     "output_type": "stream",
     "text": [
      "Processing s01:  45%|█████████████████████████████▍                                   | 78/172 [00:00<00:00, 94.95it/s]"
     ]
    },
    {
     "name": "stdout",
     "output_type": "stream",
     "text": [
      "(211, 17, 3)\n",
      "(208, 17, 3)\n",
      "(201, 17, 3)\n",
      "(214, 17, 3)\n",
      "(210, 17, 3)\n",
      "(182, 17, 3)\n",
      "(216, 17, 3)\n",
      "(263, 17, 3)\n",
      "(289, 17, 3)\n",
      "(240, 17, 3)\n",
      "(219, 17, 3)\n",
      "(216, 17, 3)\n",
      "(199, 17, 3)\n",
      "(266, 17, 3)\n",
      "(246, 17, 3)\n",
      "(240, 17, 3)\n",
      "(218, 17, 3)\n",
      "(206, 17, 3)\n",
      "(277, 17, 3)\n",
      "(186, 17, 3)\n",
      "(223, 17, 3)\n",
      "(257, 17, 3)\n",
      "(253, 17, 3)\n",
      "(253, 17, 3)\n",
      "(236, 17, 3)\n",
      "(244, 17, 3)\n"
     ]
    },
    {
     "name": "stderr",
     "output_type": "stream",
     "text": [
      "\r",
      "Processing s01:  53%|██████████████████████████████████▏                             | 92/172 [00:00<00:00, 105.31it/s]"
     ]
    },
    {
     "name": "stdout",
     "output_type": "stream",
     "text": [
      "(297, 17, 3)\n",
      "(216, 17, 3)\n",
      "(282, 17, 3)\n",
      "(235, 17, 3)\n",
      "(203, 17, 3)\n",
      "(232, 17, 3)\n",
      "(226, 17, 3)\n",
      "(242, 17, 3)\n",
      "(243, 17, 3)\n",
      "(205, 17, 3)\n",
      "(228, 17, 3)\n",
      "(234, 17, 3)\n",
      "(227, 17, 3)\n",
      "(260, 17, 3)\n",
      "(245, 17, 3)\n",
      "(255, 17, 3)\n",
      "(286, 17, 3)\n",
      "(272, 17, 3)\n",
      "(267, 17, 3)\n",
      "(235, 17, 3)\n",
      "(211, 17, 3)\n",
      "(283, 17, 3)\n",
      "(309, 17, 3)\n"
     ]
    },
    {
     "name": "stderr",
     "output_type": "stream",
     "text": [
      "Processing s01:  67%|██████████████████████████████████████████▊                     | 115/172 [00:01<00:00, 88.86it/s]"
     ]
    },
    {
     "name": "stdout",
     "output_type": "stream",
     "text": [
      "(230, 17, 3)\n",
      "(294, 17, 3)\n",
      "(216, 17, 3)\n",
      "(234, 17, 3)\n",
      "(217, 17, 3)\n",
      "(221, 17, 3)\n",
      "(215, 17, 3)\n",
      "(291, 17, 3)\n",
      "(230, 17, 3)\n",
      "(266, 17, 3)\n",
      "(292, 17, 3)\n",
      "(306, 17, 3)\n",
      "(273, 17, 3)\n",
      "(355, 17, 3)\n",
      "(260, 17, 3)\n",
      "(468, 17, 3)\n",
      "(511, 17, 3)\n",
      "(511, 17, 3)\n",
      "(533, 17, 3)\n",
      "(698, 17, 3)\n",
      "(722, 17, 3)\n",
      "(639, 17, 3)\n"
     ]
    },
    {
     "name": "stderr",
     "output_type": "stream",
     "text": [
      "Processing s01:  77%|█████████████████████████████████████████████████▍              | 133/172 [00:01<00:00, 66.89it/s]"
     ]
    },
    {
     "name": "stdout",
     "output_type": "stream",
     "text": [
      "(639, 17, 3)\n",
      "(628, 17, 3)\n",
      "(882, 17, 3)\n",
      "(658, 17, 3)\n",
      "(486, 17, 3)\n",
      "(368, 17, 3)\n",
      "(648, 17, 3)\n",
      "(734, 17, 3)\n",
      "(314, 17, 3)\n",
      "(355, 17, 3)\n",
      "(1098, 17, 3)\n",
      "(824, 17, 3)\n",
      "(225, 17, 3)\n",
      "(510, 17, 3)\n"
     ]
    },
    {
     "name": "stderr",
     "output_type": "stream",
     "text": [
      "\r",
      "Processing s01:  83%|████████████████████████████████████████████████████▊           | 142/172 [00:01<00:00, 70.67it/s]"
     ]
    },
    {
     "name": "stdout",
     "output_type": "stream",
     "text": [
      "(367, 17, 3)\n",
      "(407, 17, 3)\n",
      "(536, 17, 3)\n",
      "(347, 17, 3)\n",
      "(433, 17, 3)\n",
      "(361, 17, 3)\n",
      "(712, 17, 3)\n",
      "(441, 17, 3)\n",
      "(575, 17, 3)\n",
      "(458, 17, 3)\n",
      "(404, 17, 3)\n",
      "(540, 17, 3)\n",
      "(627, 17, 3)\n"
     ]
    },
    {
     "name": "stderr",
     "output_type": "stream",
     "text": [
      "Processing s01:  92%|██████████████████████████████████████████████████████████▊     | 158/172 [00:02<00:00, 60.14it/s]"
     ]
    },
    {
     "name": "stdout",
     "output_type": "stream",
     "text": [
      "(401, 17, 3)\n",
      "(436, 17, 3)\n",
      "(348, 17, 3)\n",
      "(329, 17, 3)\n",
      "(319, 17, 3)\n",
      "(499, 17, 3)\n",
      "(549, 17, 3)\n",
      "(456, 17, 3)\n",
      "(425, 17, 3)\n",
      "(364, 17, 3)\n",
      "(275, 17, 3)\n",
      "(364, 17, 3)\n",
      "(471, 17, 3)\n"
     ]
    },
    {
     "name": "stderr",
     "output_type": "stream",
     "text": [
      "Processing s01: 100%|████████████████████████████████████████████████████████████████| 172/172 [00:02<00:00, 75.89it/s]\n"
     ]
    },
    {
     "name": "stdout",
     "output_type": "stream",
     "text": [
      "(377, 17, 3)\n",
      "(478, 17, 3)\n",
      "(477, 17, 3)\n",
      "(306, 17, 3)\n",
      "(468, 17, 3)\n",
      "(349, 17, 3)\n",
      "(341, 17, 3)\n",
      "(346, 17, 3)\n",
      "(396, 17, 3)\n"
     ]
    },
    {
     "name": "stderr",
     "output_type": "stream",
     "text": [
      "\r",
      "Processing s02:   0%|                                                                          | 0/172 [00:00<?, ?it/s]"
     ]
    },
    {
     "name": "stdout",
     "output_type": "stream",
     "text": [
      "(181, 17, 3)\n",
      "(230, 17, 3)\n",
      "(206, 17, 3)\n",
      "(185, 17, 3)\n",
      "(226, 17, 3)\n",
      "(222, 17, 3)\n",
      "(196, 17, 3)\n",
      "(211, 17, 3)\n"
     ]
    },
    {
     "name": "stderr",
     "output_type": "stream",
     "text": [
      "\r",
      "Processing s02:   7%|████▍                                                           | 12/172 [00:00<00:01, 114.67it/s]"
     ]
    },
    {
     "name": "stdout",
     "output_type": "stream",
     "text": [
      "(217, 17, 3)\n",
      "(228, 17, 3)\n",
      "(249, 17, 3)\n",
      "(224, 17, 3)\n",
      "(183, 17, 3)\n",
      "(253, 17, 3)\n",
      "(183, 17, 3)\n",
      "(167, 17, 3)\n",
      "(189, 17, 3)\n",
      "(202, 17, 3)\n",
      "(171, 17, 3)\n",
      "(180, 17, 3)\n",
      "(170, 17, 3)\n",
      "(196, 17, 3)\n",
      "(198, 17, 3)\n",
      "(152, 17, 3)\n"
     ]
    },
    {
     "name": "stderr",
     "output_type": "stream",
     "text": [
      "Processing s02:  23%|██████████████▌                                                 | 39/172 [00:00<00:01, 108.35it/s]"
     ]
    },
    {
     "name": "stdout",
     "output_type": "stream",
     "text": [
      "(196, 17, 3)\n",
      "(210, 17, 3)\n",
      "(202, 17, 3)\n",
      "(182, 17, 3)\n",
      "(207, 17, 3)\n",
      "(412, 17, 3)\n",
      "(214, 17, 3)\n",
      "(207, 17, 3)\n",
      "(208, 17, 3)\n",
      "(186, 17, 3)\n",
      "(165, 17, 3)\n",
      "(232, 17, 3)\n",
      "(176, 17, 3)\n",
      "(203, 17, 3)\n",
      "(160, 17, 3)\n",
      "(191, 17, 3)\n",
      "(150, 17, 3)\n",
      "(136, 17, 3)\n",
      "(137, 17, 3)\n",
      "(162, 17, 3)\n",
      "(147, 17, 3)\n",
      "(170, 17, 3)\n"
     ]
    },
    {
     "name": "stderr",
     "output_type": "stream",
     "text": [
      "Processing s02:  38%|████████████████████████▌                                       | 66/172 [00:00<00:01, 102.32it/s]"
     ]
    },
    {
     "name": "stdout",
     "output_type": "stream",
     "text": [
      "(151, 17, 3)\n",
      "(155, 17, 3)\n",
      "(183, 17, 3)\n",
      "(149, 17, 3)\n",
      "(217, 17, 3)\n",
      "(243, 17, 3)\n",
      "(208, 17, 3)\n",
      "(203, 17, 3)\n",
      "(139, 17, 3)\n",
      "(157, 17, 3)\n",
      "(166, 17, 3)\n",
      "(136, 17, 3)\n",
      "(175, 17, 3)\n",
      "(209, 17, 3)\n",
      "(171, 17, 3)\n",
      "(207, 17, 3)\n",
      "(164, 17, 3)\n",
      "(151, 17, 3)\n",
      "(153, 17, 3)\n",
      "(152, 17, 3)\n",
      "(166, 17, 3)\n",
      "(208, 17, 3)\n",
      "(177, 17, 3)\n",
      "(175, 17, 3)\n",
      "(176, 17, 3)\n",
      "(170, 17, 3)\n",
      "(147, 17, 3)\n",
      "(123, 17, 3)\n"
     ]
    },
    {
     "name": "stderr",
     "output_type": "stream",
     "text": [
      "Processing s02:  53%|██████████████████████████████████▏                             | 92/172 [00:00<00:00, 105.47it/s]"
     ]
    },
    {
     "name": "stdout",
     "output_type": "stream",
     "text": [
      "(130, 17, 3)\n",
      "(169, 17, 3)\n",
      "(156, 17, 3)\n",
      "(198, 17, 3)\n",
      "(165, 17, 3)\n",
      "(139, 17, 3)\n",
      "(184, 17, 3)\n",
      "(223, 17, 3)\n",
      "(157, 17, 3)\n",
      "(161, 17, 3)\n",
      "(154, 17, 3)\n",
      "(160, 17, 3)\n",
      "(167, 17, 3)\n",
      "(153, 17, 3)\n",
      "(150, 17, 3)\n",
      "(153, 17, 3)\n",
      "(159, 17, 3)\n",
      "(158, 17, 3)\n",
      "(195, 17, 3)\n",
      "(199, 17, 3)\n",
      "(198, 17, 3)\n"
     ]
    },
    {
     "name": "stderr",
     "output_type": "stream",
     "text": [
      "\r",
      "Processing s02:  60%|██████████████████████████████████████▋                         | 104/172 [00:01<00:00, 90.29it/s]"
     ]
    },
    {
     "name": "stdout",
     "output_type": "stream",
     "text": [
      "(151, 17, 3)\n",
      "(139, 17, 3)\n",
      "(270, 17, 3)\n",
      "(151, 17, 3)\n",
      "(171, 17, 3)\n",
      "(183, 17, 3)\n",
      "(155, 17, 3)\n",
      "(168, 17, 3)\n",
      "(147, 17, 3)\n",
      "(170, 17, 3)\n",
      "(141, 17, 3)\n",
      "(195, 17, 3)\n",
      "(153, 17, 3)\n",
      "(139, 17, 3)\n",
      "(188, 17, 3)\n",
      "(190, 17, 3)\n",
      "(231, 17, 3)\n",
      "(197, 17, 3)\n",
      "(197, 17, 3)\n",
      "(240, 17, 3)\n"
     ]
    },
    {
     "name": "stderr",
     "output_type": "stream",
     "text": [
      "Processing s02:  75%|████████████████████████████████████████████████                | 129/172 [00:01<00:00, 95.25it/s]"
     ]
    },
    {
     "name": "stdout",
     "output_type": "stream",
     "text": [
      "(150, 17, 3)\n",
      "(486, 17, 3)\n",
      "(492, 17, 3)\n",
      "(398, 17, 3)\n",
      "(513, 17, 3)\n",
      "(587, 17, 3)\n",
      "(847, 17, 3)\n",
      "(591, 17, 3)\n",
      "(602, 17, 3)\n",
      "(547, 17, 3)\n",
      "(588, 17, 3)\n",
      "(350, 17, 3)\n",
      "(515, 17, 3)\n",
      "(326, 17, 3)\n",
      "(477, 17, 3)\n"
     ]
    },
    {
     "name": "stderr",
     "output_type": "stream",
     "text": [
      "\r",
      "Processing s02:  81%|████████████████████████████████████████████████████            | 140/172 [00:01<00:00, 65.84it/s]"
     ]
    },
    {
     "name": "stdout",
     "output_type": "stream",
     "text": [
      "(665, 17, 3)\n",
      "(358, 17, 3)\n",
      "(294, 17, 3)\n",
      "(790, 17, 3)\n",
      "(575, 17, 3)\n",
      "(302, 17, 3)\n",
      "(356, 17, 3)\n",
      "(325, 17, 3)\n",
      "(322, 17, 3)\n",
      "(421, 17, 3)\n",
      "(277, 17, 3)\n",
      "(591, 17, 3)\n",
      "(247, 17, 3)\n",
      "(330, 17, 3)\n",
      "(426, 17, 3)\n"
     ]
    },
    {
     "name": "stderr",
     "output_type": "stream",
     "text": [
      "Processing s02:  92%|███████████████████████████████████████████████████████████▏    | 159/172 [00:01<00:00, 72.00it/s]"
     ]
    },
    {
     "name": "stdout",
     "output_type": "stream",
     "text": [
      "(449, 17, 3)\n",
      "(537, 17, 3)\n",
      "(351, 17, 3)\n",
      "(482, 17, 3)\n",
      "(402, 17, 3)\n",
      "(409, 17, 3)\n",
      "(487, 17, 3)\n",
      "(381, 17, 3)\n",
      "(359, 17, 3)\n",
      "(273, 17, 3)\n",
      "(382, 17, 3)\n",
      "(592, 17, 3)\n",
      "(571, 17, 3)\n",
      "(300, 17, 3)\n",
      "(403, 17, 3)\n",
      "(432, 17, 3)\n",
      "(286, 17, 3)\n"
     ]
    },
    {
     "name": "stderr",
     "output_type": "stream",
     "text": [
      "\r",
      "Processing s02:  98%|██████████████████████████████████████████████████████████████▉ | 169/172 [00:01<00:00, 77.46it/s]"
     ]
    },
    {
     "name": "stdout",
     "output_type": "stream",
     "text": [
      "(439, 17, 3)\n",
      "(342, 17, 3)\n",
      "(538, 17, 3)\n",
      "(519, 17, 3)\n",
      "(252, 17, 3)\n",
      "(388, 17, 3)\n",
      "(744, 17, 3)\n",
      "(573, 17, 3)\n"
     ]
    },
    {
     "name": "stderr",
     "output_type": "stream",
     "text": [
      "Processing s02: 100%|████████████████████████████████████████████████████████████████| 172/172 [00:02<00:00, 81.22it/s]\n"
     ]
    },
    {
     "name": "stdout",
     "output_type": "stream",
     "text": [
      "(309, 17, 3)\n",
      "(342, 17, 3)\n"
     ]
    },
    {
     "name": "stderr",
     "output_type": "stream",
     "text": [
      "Processing s03:   7%|████▍                                                           | 12/172 [00:00<00:01, 119.46it/s]"
     ]
    },
    {
     "name": "stdout",
     "output_type": "stream",
     "text": [
      "(454, 17, 3)\n",
      "(382, 17, 3)\n",
      "(174, 17, 3)\n",
      "(196, 17, 3)\n",
      "(166, 17, 3)\n",
      "(167, 17, 3)\n",
      "(164, 17, 3)\n",
      "(173, 17, 3)\n",
      "(183, 17, 3)\n",
      "(170, 17, 3)\n",
      "(181, 17, 3)\n",
      "(250, 17, 3)\n",
      "(181, 17, 3)\n",
      "(241, 17, 3)\n",
      "(181, 17, 3)\n",
      "(170, 17, 3)\n",
      "(157, 17, 3)\n",
      "(172, 17, 3)\n",
      "(173, 17, 3)\n",
      "(191, 17, 3)\n",
      "(164, 17, 3)\n",
      "(178, 17, 3)\n",
      "(178, 17, 3)\n",
      "(203, 17, 3)\n",
      "(187, 17, 3)\n",
      "(197, 17, 3)\n",
      "(177, 17, 3)\n",
      "(226, 17, 3)\n"
     ]
    },
    {
     "name": "stderr",
     "output_type": "stream",
     "text": [
      "Processing s03:  24%|███████████████▋                                                | 42/172 [00:00<00:00, 130.65it/s]"
     ]
    },
    {
     "name": "stdout",
     "output_type": "stream",
     "text": [
      "(218, 17, 3)\n",
      "(257, 17, 3)\n",
      "(204, 17, 3)\n",
      "(175, 17, 3)\n",
      "(211, 17, 3)\n",
      "(222, 17, 3)\n",
      "(197, 17, 3)\n",
      "(190, 17, 3)\n",
      "(191, 17, 3)\n",
      "(203, 17, 3)\n",
      "(191, 17, 3)\n",
      "(215, 17, 3)\n",
      "(246, 17, 3)\n",
      "(169, 17, 3)\n",
      "(194, 17, 3)\n",
      "(192, 17, 3)\n",
      "(171, 17, 3)\n",
      "(169, 17, 3)\n",
      "(186, 17, 3)\n",
      "(162, 17, 3)\n",
      "(160, 17, 3)\n",
      "(167, 17, 3)\n",
      "(236, 17, 3)\n",
      "(289, 17, 3)\n"
     ]
    },
    {
     "name": "stderr",
     "output_type": "stream",
     "text": [
      "Processing s03:  40%|█████████████████████████▋                                      | 69/172 [00:00<00:00, 117.37it/s]"
     ]
    },
    {
     "name": "stdout",
     "output_type": "stream",
     "text": [
      "(228, 17, 3)\n",
      "(248, 17, 3)\n",
      "(168, 17, 3)\n",
      "(163, 17, 3)\n",
      "(202, 17, 3)\n",
      "(161, 17, 3)\n",
      "(155, 17, 3)\n",
      "(273, 17, 3)\n",
      "(190, 17, 3)\n",
      "(181, 17, 3)\n",
      "(182, 17, 3)\n",
      "(180, 17, 3)\n",
      "(194, 17, 3)\n",
      "(191, 17, 3)\n",
      "(191, 17, 3)\n",
      "(201, 17, 3)\n",
      "(178, 17, 3)\n",
      "(211, 17, 3)\n",
      "(194, 17, 3)\n",
      "(171, 17, 3)\n",
      "(208, 17, 3)\n",
      "(147, 17, 3)\n",
      "(151, 17, 3)\n"
     ]
    },
    {
     "name": "stderr",
     "output_type": "stream",
     "text": [
      "Processing s03:  58%|████████████████████████████████████▋                          | 100/172 [00:00<00:00, 135.40it/s]"
     ]
    },
    {
     "name": "stdout",
     "output_type": "stream",
     "text": [
      "(137, 17, 3)\n",
      "(139, 17, 3)\n",
      "(252, 17, 3)\n",
      "(207, 17, 3)\n",
      "(144, 17, 3)\n",
      "(167, 17, 3)\n",
      "(138, 17, 3)\n",
      "(140, 17, 3)\n",
      "(163, 17, 3)\n",
      "(153, 17, 3)\n",
      "(151, 17, 3)\n",
      "(145, 17, 3)\n",
      "(142, 17, 3)\n",
      "(172, 17, 3)\n",
      "(143, 17, 3)\n",
      "(167, 17, 3)\n",
      "(135, 17, 3)\n",
      "(141, 17, 3)\n",
      "(205, 17, 3)\n",
      "(154, 17, 3)\n",
      "(166, 17, 3)\n",
      "(181, 17, 3)\n",
      "(200, 17, 3)\n",
      "(160, 17, 3)\n",
      "(154, 17, 3)\n",
      "(219, 17, 3)\n",
      "(240, 17, 3)\n",
      "(535, 17, 3)\n"
     ]
    },
    {
     "name": "stderr",
     "output_type": "stream",
     "text": [
      "\r",
      "Processing s03:  66%|██████████████████████████████████████████▍                     | 114/172 [00:01<00:00, 89.59it/s]"
     ]
    },
    {
     "name": "stdout",
     "output_type": "stream",
     "text": [
      "(180, 17, 3)\n",
      "(163, 17, 3)\n",
      "(198, 17, 3)\n",
      "(242, 17, 3)\n",
      "(191, 17, 3)\n",
      "(188, 17, 3)\n",
      "(166, 17, 3)\n",
      "(182, 17, 3)\n",
      "(190, 17, 3)\n",
      "(173, 17, 3)\n",
      "(180, 17, 3)\n",
      "(250, 17, 3)\n",
      "(240, 17, 3)\n",
      "(386, 17, 3)\n",
      "(400, 17, 3)\n",
      "(759, 17, 3)\n",
      "(373, 17, 3)\n",
      "(463, 17, 3)\n",
      "(396, 17, 3)\n"
     ]
    },
    {
     "name": "stderr",
     "output_type": "stream",
     "text": [
      "Processing s03:  79%|██████████████████████████████████████████████████▌             | 136/172 [00:01<00:00, 88.24it/s]"
     ]
    },
    {
     "name": "stdout",
     "output_type": "stream",
     "text": [
      "(378, 17, 3)\n",
      "(354, 17, 3)\n",
      "(414, 17, 3)\n",
      "(1800, 17, 3)\n",
      "(302, 17, 3)\n",
      "(338, 17, 3)\n",
      "(286, 17, 3)\n",
      "(365, 17, 3)\n",
      "(472, 17, 3)\n",
      "(266, 17, 3)\n",
      "(289, 17, 3)\n",
      "(522, 17, 3)\n",
      "(449, 17, 3)\n",
      "(259, 17, 3)\n",
      "(294, 17, 3)\n",
      "(286, 17, 3)\n",
      "(270, 17, 3)\n",
      "(339, 17, 3)\n",
      "(239, 17, 3)\n"
     ]
    },
    {
     "name": "stderr",
     "output_type": "stream",
     "text": [
      "\r",
      "Processing s03:  85%|██████████████████████████████████████████████████████▎         | 146/172 [00:01<00:00, 89.64it/s]"
     ]
    },
    {
     "name": "stdout",
     "output_type": "stream",
     "text": [
      "(311, 17, 3)\n",
      "(250, 17, 3)\n",
      "(248, 17, 3)\n",
      "(277, 17, 3)\n",
      "(1293, 17, 3)\n",
      "(280, 17, 3)\n",
      "(207, 17, 3)\n",
      "(237, 17, 3)\n",
      "(241, 17, 3)\n",
      "(215, 17, 3)\n",
      "(269, 17, 3)\n",
      "(325, 17, 3)\n",
      "(211, 17, 3)\n"
     ]
    },
    {
     "name": "stderr",
     "output_type": "stream",
     "text": [
      "Processing s03: 100%|████████████████████████████████████████████████████████████████| 172/172 [00:01<00:00, 97.86it/s]\n"
     ]
    },
    {
     "name": "stdout",
     "output_type": "stream",
     "text": [
      "(243, 17, 3)\n",
      "(286, 17, 3)\n",
      "(285, 17, 3)\n",
      "(289, 17, 3)\n",
      "(262, 17, 3)\n",
      "(271, 17, 3)\n",
      "(316, 17, 3)\n",
      "(253, 17, 3)\n",
      "(282, 17, 3)\n",
      "(222, 17, 3)\n",
      "(256, 17, 3)\n",
      "(354, 17, 3)\n",
      "(196, 17, 3)\n",
      "(276, 17, 3)\n",
      "(266, 17, 3)\n",
      "(265, 17, 3)\n",
      "(247, 17, 3)\n",
      "(225, 17, 3)\n"
     ]
    },
    {
     "name": "stderr",
     "output_type": "stream",
     "text": [
      "\r",
      "Processing s06:   0%|                                                                          | 0/172 [00:00<?, ?it/s]"
     ]
    },
    {
     "name": "stdout",
     "output_type": "stream",
     "text": [
      "(286, 17, 3)"
     ]
    },
    {
     "name": "stderr",
     "output_type": "stream",
     "text": [
      "Processing s06:  11%|███████▏                                                         | 19/172 [00:00<00:01, 94.21it/s]"
     ]
    },
    {
     "name": "stdout",
     "output_type": "stream",
     "text": [
      "\n",
      "(280, 17, 3)\n",
      "(301, 17, 3)\n",
      "(252, 17, 3)\n",
      "(248, 17, 3)\n",
      "(241, 17, 3)\n",
      "(272, 17, 3)\n",
      "(235, 17, 3)\n",
      "(256, 17, 3)\n",
      "(232, 17, 3)\n",
      "(241, 17, 3)\n",
      "(411, 17, 3)\n",
      "(298, 17, 3)\n",
      "(262, 17, 3)\n",
      "(248, 17, 3)\n",
      "(263, 17, 3)\n",
      "(252, 17, 3)\n",
      "(231, 17, 3)\n",
      "(278, 17, 3)\n",
      "(246, 17, 3)\n",
      "(241, 17, 3)\n",
      "(317, 17, 3)\n",
      "(279, 17, 3)\n",
      "(236, 17, 3)\n",
      "(244, 17, 3)\n"
     ]
    },
    {
     "name": "stderr",
     "output_type": "stream",
     "text": [
      "Processing s06:  25%|████████████████                                                | 43/172 [00:00<00:01, 107.34it/s]"
     ]
    },
    {
     "name": "stdout",
     "output_type": "stream",
     "text": [
      "(252, 17, 3)\n",
      "(264, 17, 3)\n",
      "(301, 17, 3)\n",
      "(266, 17, 3)\n",
      "(281, 17, 3)\n",
      "(276, 17, 3)\n",
      "(254, 17, 3)\n",
      "(267, 17, 3)\n",
      "(248, 17, 3)\n",
      "(249, 17, 3)\n",
      "(299, 17, 3)\n",
      "(236, 17, 3)\n",
      "(245, 17, 3)\n",
      "(219, 17, 3)\n",
      "(237, 17, 3)\n",
      "(227, 17, 3)\n",
      "(234, 17, 3)\n",
      "(202, 17, 3)\n",
      "(229, 17, 3)\n",
      "(250, 17, 3)\n",
      "(261, 17, 3)\n",
      "(281, 17, 3)\n",
      "(294, 17, 3)\n"
     ]
    },
    {
     "name": "stderr",
     "output_type": "stream",
     "text": [
      "Processing s06:  39%|█████████████████████████▎                                       | 67/172 [00:00<00:01, 90.16it/s]"
     ]
    },
    {
     "name": "stdout",
     "output_type": "stream",
     "text": [
      "(257, 17, 3)\n",
      "(232, 17, 3)\n",
      "(263, 17, 3)\n",
      "(296, 17, 3)\n",
      "(234, 17, 3)\n",
      "(255, 17, 3)\n",
      "(212, 17, 3)\n",
      "(262, 17, 3)\n",
      "(257, 17, 3)\n",
      "(251, 17, 3)\n",
      "(236, 17, 3)\n",
      "(267, 17, 3)\n",
      "(280, 17, 3)\n",
      "(278, 17, 3)\n",
      "(262, 17, 3)\n",
      "(259, 17, 3)\n",
      "(268, 17, 3)\n",
      "(260, 17, 3)\n",
      "(268, 17, 3)\n",
      "(242, 17, 3)\n",
      "(256, 17, 3)\n",
      "(287, 17, 3)\n",
      "(222, 17, 3)\n",
      "(204, 17, 3)\n",
      "(263, 17, 3)\n"
     ]
    },
    {
     "name": "stderr",
     "output_type": "stream",
     "text": [
      "Processing s06:  53%|██████████████████████████████████▏                             | 92/172 [00:00<00:00, 106.12it/s]"
     ]
    },
    {
     "name": "stdout",
     "output_type": "stream",
     "text": [
      "(218, 17, 3)\n",
      "(312, 17, 3)\n",
      "(217, 17, 3)\n",
      "(227, 17, 3)\n",
      "(256, 17, 3)\n",
      "(262, 17, 3)\n",
      "(236, 17, 3)\n",
      "(260, 17, 3)\n",
      "(260, 17, 3)\n",
      "(227, 17, 3)\n",
      "(239, 17, 3)\n",
      "(222, 17, 3)\n",
      "(270, 17, 3)\n",
      "(256, 17, 3)\n",
      "(241, 17, 3)\n",
      "(272, 17, 3)\n",
      "(229, 17, 3)\n",
      "(247, 17, 3)\n",
      "(279, 17, 3)\n",
      "(249, 17, 3)\n",
      "(226, 17, 3)\n",
      "(221, 17, 3)\n",
      "(215, 17, 3)\n",
      "(265, 17, 3)\n",
      "(250, 17, 3)\n"
     ]
    },
    {
     "name": "stderr",
     "output_type": "stream",
     "text": [
      "Processing s06:  67%|██████████████████████████████████████████                     | 115/172 [00:01<00:00, 104.71it/s]"
     ]
    },
    {
     "name": "stdout",
     "output_type": "stream",
     "text": [
      "(256, 17, 3)\n",
      "(240, 17, 3)\n",
      "(325, 17, 3)\n",
      "(246, 17, 3)\n",
      "(258, 17, 3)\n",
      "(245, 17, 3)\n",
      "(282, 17, 3)\n",
      "(226, 17, 3)\n",
      "(328, 17, 3)\n",
      "(276, 17, 3)\n",
      "(250, 17, 3)\n",
      "(252, 17, 3)\n",
      "(239, 17, 3)\n",
      "(247, 17, 3)\n",
      "(273, 17, 3)\n",
      "(289, 17, 3)\n",
      "(347, 17, 3)\n",
      "(242, 17, 3)\n"
     ]
    },
    {
     "name": "stderr",
     "output_type": "stream",
     "text": [
      "\r",
      "Processing s06:  73%|██████████████████████████████████████████████▉                 | 126/172 [00:01<00:00, 72.28it/s]"
     ]
    },
    {
     "name": "stdout",
     "output_type": "stream",
     "text": [
      "(566, 17, 3)\n",
      "(461, 17, 3)\n",
      "(463, 17, 3)\n",
      "(566, 17, 3)\n",
      "(708, 17, 3)\n",
      "(600, 17, 3)\n",
      "(547, 17, 3)\n",
      "(490, 17, 3)\n",
      "(522, 17, 3)\n",
      "(632, 17, 3)\n",
      "(417, 17, 3)\n",
      "(548, 17, 3)\n",
      "(367, 17, 3)\n",
      "(563, 17, 3)\n",
      "(572, 17, 3)\n",
      "(306, 17, 3)\n",
      "(367, 17, 3)\n",
      "(753, 17, 3)\n"
     ]
    },
    {
     "name": "stderr",
     "output_type": "stream",
     "text": [
      "Processing s06:  84%|█████████████████████████████████████████████████████▉          | 145/172 [00:01<00:00, 79.30it/s]"
     ]
    },
    {
     "name": "stdout",
     "output_type": "stream",
     "text": [
      "(601, 17, 3)\n",
      "(263, 17, 3)\n",
      "(378, 17, 3)\n",
      "(526, 17, 3)\n",
      "(461, 17, 3)\n",
      "(618, 17, 3)\n",
      "(430, 17, 3)\n",
      "(499, 17, 3)\n",
      "(366, 17, 3)\n",
      "(483, 17, 3)\n",
      "(546, 17, 3)\n",
      "(685, 17, 3)\n",
      "(519, 17, 3)\n",
      "(439, 17, 3)\n"
     ]
    },
    {
     "name": "stderr",
     "output_type": "stream",
     "text": [
      "\r",
      "Processing s06:  90%|█████████████████████████████████████████████████████████▎      | 154/172 [00:01<00:00, 59.32it/s]"
     ]
    },
    {
     "name": "stdout",
     "output_type": "stream",
     "text": [
      "(567, 17, 3)\n",
      "(381, 17, 3)\n",
      "(541, 17, 3)\n",
      "(748, 17, 3)\n",
      "(393, 17, 3)\n",
      "(403, 17, 3)\n",
      "(341, 17, 3)\n",
      "(398, 17, 3)\n",
      "(435, 17, 3)\n",
      "(470, 17, 3)\n",
      "(369, 17, 3)\n",
      "(681, 17, 3)\n",
      "(406, 17, 3)\n",
      "(342, 17, 3)\n"
     ]
    },
    {
     "name": "stderr",
     "output_type": "stream",
     "text": [
      "Processing s06: 100%|████████████████████████████████████████████████████████████████| 172/172 [00:02<00:00, 79.41it/s]"
     ]
    },
    {
     "name": "stdout",
     "output_type": "stream",
     "text": [
      "(435, 17, 3)\n",
      "(361, 17, 3)\n",
      "(551, 17, 3)\n",
      "(480, 17, 3)\n",
      "(323, 17, 3)\n",
      "(377, 17, 3)\n",
      "(385, 17, 3)\n",
      "(355, 17, 3)\n",
      "(335, 17, 3)\n",
      "(350, 17, 3)\n"
     ]
    },
    {
     "name": "stderr",
     "output_type": "stream",
     "text": [
      "\n"
     ]
    }
   ],
   "source": [
    "save_3d_npy(humansc3d_root, save_root)"
   ]
  },
  {
   "cell_type": "code",
   "execution_count": 26,
   "id": "14021569",
   "metadata": {},
   "outputs": [
    {
     "data": {
      "text/plain": [
       "{'extrinsics': {'R': array([[-0.37193456, -0.92735806,  0.0408865 ],\n",
       "         [-0.19685362,  0.03575411, -0.97978074],\n",
       "         [ 0.90714571, -0.37246297, -0.19585198]]),\n",
       "  'T': array([[-4.00357115,  1.77013179,  1.55218761]])},\n",
       " 'intrinsics_w_distortion': {'f': array([[1097.70556197, 1093.48948026]]),\n",
       "  'c': array([[470.14968667, 443.13247598]]),\n",
       "  'k': array([[-0.19110746,  0.06966311,  0.00252013]]),\n",
       "  'p': array([[-0.00325439,  0.00244336]])},\n",
       " 'intrinsics_wo_distortion': {'c': array([470.14334106, 443.12918091]),\n",
       "  'f': array([1094.10302734, 1087.02526855])}}"
      ]
     },
     "execution_count": 26,
     "metadata": {},
     "output_type": "execute_result"
    }
   ],
   "source": [
    "read_cam_params('../fit3d/train/S03/camera_parameters/50591643/warmup_1.json')"
   ]
  },
  {
   "cell_type": "code",
   "execution_count": 32,
   "id": "f4d44609",
   "metadata": {},
   "outputs": [
    {
     "data": {
      "text/plain": [
       "564"
      ]
     },
     "execution_count": 32,
     "metadata": {},
     "output_type": "execute_result"
    }
   ],
   "source": [
    "47*3*4"
   ]
  },
  {
   "cell_type": "code",
   "execution_count": 37,
   "id": "3af67b7e",
   "metadata": {},
   "outputs": [
    {
     "data": {
      "text/plain": [
       "516"
      ]
     },
     "execution_count": 37,
     "metadata": {},
     "output_type": "execute_result"
    }
   ],
   "source": [
    "172*3"
   ]
  },
  {
   "cell_type": "code",
   "execution_count": 38,
   "id": "aed4b478",
   "metadata": {},
   "outputs": [
    {
     "data": {
      "text/plain": [
       "0"
      ]
     },
     "execution_count": 38,
     "metadata": {},
     "output_type": "execute_result"
    }
   ],
   "source": [
    "len([name for name in os.listdir('../keypoints/train') if os.path.isdir(os.path.join('../keypoints/train', name))])"
   ]
  },
  {
   "cell_type": "code",
   "execution_count": 44,
   "id": "dd286d34",
   "metadata": {},
   "outputs": [
    {
     "data": {
      "text/plain": [
       "6008"
      ]
     },
     "execution_count": 44,
     "metadata": {},
     "output_type": "execute_result"
    }
   ],
   "source": [
    "len([action.split('.')[0] for action in os.listdir('../keypoints/train') if action.endswith('.npy')])"
   ]
  },
  {
   "cell_type": "code",
   "execution_count": 42,
   "id": "d8ad0f09",
   "metadata": {},
   "outputs": [
    {
     "data": {
      "text/plain": [
       "2504"
      ]
     },
     "execution_count": 42,
     "metadata": {},
     "output_type": "execute_result"
    }
   ],
   "source": [
    "(564+688)*2"
   ]
  },
  {
   "cell_type": "code",
   "execution_count": null,
   "id": "f36c36a7",
   "metadata": {},
   "outputs": [],
   "source": []
  }
 ],
 "metadata": {
  "kernelspec": {
   "display_name": "MotionAGFormer",
   "language": "python",
   "name": "motionagformer"
  },
  "language_info": {
   "codemirror_mode": {
    "name": "ipython",
    "version": 3
   },
   "file_extension": ".py",
   "mimetype": "text/x-python",
   "name": "python",
   "nbconvert_exporter": "python",
   "pygments_lexer": "ipython3",
   "version": "3.8.10"
  }
 },
 "nbformat": 4,
 "nbformat_minor": 5
}
